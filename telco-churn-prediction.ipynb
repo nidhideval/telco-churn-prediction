{
 "cells": [
  {
   "cell_type": "code",
   "execution_count": 1,
   "id": "ae603fe4",
   "metadata": {
    "_cell_guid": "b1076dfc-b9ad-4769-8c92-a6c4dae69d19",
    "_uuid": "8f2839f25d086af736a60e9eeb907d3b93b6e0e5",
    "execution": {
     "iopub.execute_input": "2025-09-09T03:01:48.320085Z",
     "iopub.status.busy": "2025-09-09T03:01:48.319765Z",
     "iopub.status.idle": "2025-09-09T03:01:50.339663Z",
     "shell.execute_reply": "2025-09-09T03:01:50.338487Z"
    },
    "papermill": {
     "duration": 2.036459,
     "end_time": "2025-09-09T03:01:50.341378",
     "exception": false,
     "start_time": "2025-09-09T03:01:48.304919",
     "status": "completed"
    },
    "tags": []
   },
   "outputs": [
    {
     "name": "stdout",
     "output_type": "stream",
     "text": [
      "/kaggle/input/telco-customer-churn/WA_Fn-UseC_-Telco-Customer-Churn.csv\n",
      "/kaggle/input/archive-zip-file/WA_Fn-UseC_-Telco-Customer-Churn.csv\n",
      "/kaggle/input/telco-customer-churn-csv/WA_Fn-UseC_-Telco-Customer-Churn.csv\n",
      "/kaggle/input/telco-customer-churn-logisticregression/Rplot001.png\n",
      "/kaggle/input/telco-customer-churn-logisticregression/__results__.html\n",
      "/kaggle/input/telco-customer-churn-logisticregression/__output__.json\n",
      "/kaggle/input/telco-customer-churn-logisticregression/custom.css\n",
      "/kaggle/input/telco-customer-churn-logisticregression/__results___files/__results___20_1.png\n",
      "/kaggle/input/telco-customer-churn-logisticregression/__results___files/__results___18_1.png\n",
      "/kaggle/input/telco-customer-churn-logisticregression/__results___files/__results___31_1.png\n",
      "/kaggle/input/telco-customer-churn-logisticregression/__results___files/__results___85_0.png\n",
      "/kaggle/input/telco-customer-churn-logisticregression/__results___files/__results___14_1.png\n",
      "/kaggle/input/telco-customer-churn-logisticregression/__results___files/__results___87_0.png\n",
      "/kaggle/input/telco-customer-churn-logisticregression/__results___files/__results___33_1.png\n",
      "/kaggle/input/telco-customer-churn-logisticregression/__results___files/__results___29_1.png\n",
      "/kaggle/input/telco-customer-churn-logisticregression/__results___files/__results___6_1.png\n",
      "/kaggle/input/telco-customer-churn-logisticregression/__results___files/__results___25_1.png\n",
      "/kaggle/input/telco-customer-churn-logisticregression/__results___files/__results___27_1.png\n",
      "/kaggle/input/telco-customer-churn-logisticregression/__results___files/__results___23_1.png\n",
      "/kaggle/input/telco-customer-churn-logisticregression/__results___files/__results___66_1.png\n",
      "/kaggle/input/telco-customer-churn-logisticregression/__results___files/__results___32_1.png\n",
      "/kaggle/input/telco-customer-churn-logisticregression/__results___files/__results___16_1.png\n",
      "/kaggle/input/telco-customer-churn-logisticregression/__results___files/__results___42_1.png\n"
     ]
    }
   ],
   "source": [
    "# This Python 3 environment comes with many helpful analytics libraries installed\n",
    "# It is defined by the kaggle/python Docker image: https://github.com/kaggle/docker-python\n",
    "# For example, here's several helpful packages to load\n",
    "\n",
    "import numpy as np # linear algebra\n",
    "import pandas as pd # data processing, CSV file I/O (e.g. pd.read_csv)\n",
    "\n",
    "# Input data files are available in the read-only \"../input/\" directory\n",
    "# For example, running this (by clicking run or pressing Shift+Enter) will list all files under the input directory\n",
    "\n",
    "import os\n",
    "for dirname, _, filenames in os.walk('/kaggle/input'):\n",
    "    for filename in filenames:\n",
    "        print(os.path.join(dirname, filename))\n",
    "\n",
    "# You can write up to 20GB to the current directory (/kaggle/working/) that gets preserved as output when you create a version using \"Save & Run All\" \n",
    "# You can also write temporary files to /kaggle/temp/, but they won't be saved outside of the current session"
   ]
  },
  {
   "cell_type": "code",
   "execution_count": 2,
   "id": "38b52a6a",
   "metadata": {
    "execution": {
     "iopub.execute_input": "2025-09-09T03:01:50.367994Z",
     "iopub.status.busy": "2025-09-09T03:01:50.367557Z",
     "iopub.status.idle": "2025-09-09T03:01:50.473559Z",
     "shell.execute_reply": "2025-09-09T03:01:50.472275Z"
    },
    "papermill": {
     "duration": 0.12166,
     "end_time": "2025-09-09T03:01:50.475354",
     "exception": false,
     "start_time": "2025-09-09T03:01:50.353694",
     "status": "completed"
    },
    "tags": []
   },
   "outputs": [
    {
     "data": {
      "text/html": [
       "<div>\n",
       "<style scoped>\n",
       "    .dataframe tbody tr th:only-of-type {\n",
       "        vertical-align: middle;\n",
       "    }\n",
       "\n",
       "    .dataframe tbody tr th {\n",
       "        vertical-align: top;\n",
       "    }\n",
       "\n",
       "    .dataframe thead th {\n",
       "        text-align: right;\n",
       "    }\n",
       "</style>\n",
       "<table border=\"1\" class=\"dataframe\">\n",
       "  <thead>\n",
       "    <tr style=\"text-align: right;\">\n",
       "      <th></th>\n",
       "      <th>customerID</th>\n",
       "      <th>gender</th>\n",
       "      <th>SeniorCitizen</th>\n",
       "      <th>Partner</th>\n",
       "      <th>Dependents</th>\n",
       "      <th>tenure</th>\n",
       "      <th>PhoneService</th>\n",
       "      <th>MultipleLines</th>\n",
       "      <th>InternetService</th>\n",
       "      <th>OnlineSecurity</th>\n",
       "      <th>...</th>\n",
       "      <th>DeviceProtection</th>\n",
       "      <th>TechSupport</th>\n",
       "      <th>StreamingTV</th>\n",
       "      <th>StreamingMovies</th>\n",
       "      <th>Contract</th>\n",
       "      <th>PaperlessBilling</th>\n",
       "      <th>PaymentMethod</th>\n",
       "      <th>MonthlyCharges</th>\n",
       "      <th>TotalCharges</th>\n",
       "      <th>Churn</th>\n",
       "    </tr>\n",
       "  </thead>\n",
       "  <tbody>\n",
       "    <tr>\n",
       "      <th>0</th>\n",
       "      <td>7590-VHVEG</td>\n",
       "      <td>Female</td>\n",
       "      <td>0</td>\n",
       "      <td>Yes</td>\n",
       "      <td>No</td>\n",
       "      <td>1</td>\n",
       "      <td>No</td>\n",
       "      <td>No phone service</td>\n",
       "      <td>DSL</td>\n",
       "      <td>No</td>\n",
       "      <td>...</td>\n",
       "      <td>No</td>\n",
       "      <td>No</td>\n",
       "      <td>No</td>\n",
       "      <td>No</td>\n",
       "      <td>Month-to-month</td>\n",
       "      <td>Yes</td>\n",
       "      <td>Electronic check</td>\n",
       "      <td>29.85</td>\n",
       "      <td>29.85</td>\n",
       "      <td>No</td>\n",
       "    </tr>\n",
       "    <tr>\n",
       "      <th>1</th>\n",
       "      <td>5575-GNVDE</td>\n",
       "      <td>Male</td>\n",
       "      <td>0</td>\n",
       "      <td>No</td>\n",
       "      <td>No</td>\n",
       "      <td>34</td>\n",
       "      <td>Yes</td>\n",
       "      <td>No</td>\n",
       "      <td>DSL</td>\n",
       "      <td>Yes</td>\n",
       "      <td>...</td>\n",
       "      <td>Yes</td>\n",
       "      <td>No</td>\n",
       "      <td>No</td>\n",
       "      <td>No</td>\n",
       "      <td>One year</td>\n",
       "      <td>No</td>\n",
       "      <td>Mailed check</td>\n",
       "      <td>56.95</td>\n",
       "      <td>1889.5</td>\n",
       "      <td>No</td>\n",
       "    </tr>\n",
       "    <tr>\n",
       "      <th>2</th>\n",
       "      <td>3668-QPYBK</td>\n",
       "      <td>Male</td>\n",
       "      <td>0</td>\n",
       "      <td>No</td>\n",
       "      <td>No</td>\n",
       "      <td>2</td>\n",
       "      <td>Yes</td>\n",
       "      <td>No</td>\n",
       "      <td>DSL</td>\n",
       "      <td>Yes</td>\n",
       "      <td>...</td>\n",
       "      <td>No</td>\n",
       "      <td>No</td>\n",
       "      <td>No</td>\n",
       "      <td>No</td>\n",
       "      <td>Month-to-month</td>\n",
       "      <td>Yes</td>\n",
       "      <td>Mailed check</td>\n",
       "      <td>53.85</td>\n",
       "      <td>108.15</td>\n",
       "      <td>Yes</td>\n",
       "    </tr>\n",
       "    <tr>\n",
       "      <th>3</th>\n",
       "      <td>7795-CFOCW</td>\n",
       "      <td>Male</td>\n",
       "      <td>0</td>\n",
       "      <td>No</td>\n",
       "      <td>No</td>\n",
       "      <td>45</td>\n",
       "      <td>No</td>\n",
       "      <td>No phone service</td>\n",
       "      <td>DSL</td>\n",
       "      <td>Yes</td>\n",
       "      <td>...</td>\n",
       "      <td>Yes</td>\n",
       "      <td>Yes</td>\n",
       "      <td>No</td>\n",
       "      <td>No</td>\n",
       "      <td>One year</td>\n",
       "      <td>No</td>\n",
       "      <td>Bank transfer (automatic)</td>\n",
       "      <td>42.30</td>\n",
       "      <td>1840.75</td>\n",
       "      <td>No</td>\n",
       "    </tr>\n",
       "    <tr>\n",
       "      <th>4</th>\n",
       "      <td>9237-HQITU</td>\n",
       "      <td>Female</td>\n",
       "      <td>0</td>\n",
       "      <td>No</td>\n",
       "      <td>No</td>\n",
       "      <td>2</td>\n",
       "      <td>Yes</td>\n",
       "      <td>No</td>\n",
       "      <td>Fiber optic</td>\n",
       "      <td>No</td>\n",
       "      <td>...</td>\n",
       "      <td>No</td>\n",
       "      <td>No</td>\n",
       "      <td>No</td>\n",
       "      <td>No</td>\n",
       "      <td>Month-to-month</td>\n",
       "      <td>Yes</td>\n",
       "      <td>Electronic check</td>\n",
       "      <td>70.70</td>\n",
       "      <td>151.65</td>\n",
       "      <td>Yes</td>\n",
       "    </tr>\n",
       "  </tbody>\n",
       "</table>\n",
       "<p>5 rows × 21 columns</p>\n",
       "</div>"
      ],
      "text/plain": [
       "   customerID  gender  SeniorCitizen Partner Dependents  tenure PhoneService  \\\n",
       "0  7590-VHVEG  Female              0     Yes         No       1           No   \n",
       "1  5575-GNVDE    Male              0      No         No      34          Yes   \n",
       "2  3668-QPYBK    Male              0      No         No       2          Yes   \n",
       "3  7795-CFOCW    Male              0      No         No      45           No   \n",
       "4  9237-HQITU  Female              0      No         No       2          Yes   \n",
       "\n",
       "      MultipleLines InternetService OnlineSecurity  ... DeviceProtection  \\\n",
       "0  No phone service             DSL             No  ...               No   \n",
       "1                No             DSL            Yes  ...              Yes   \n",
       "2                No             DSL            Yes  ...               No   \n",
       "3  No phone service             DSL            Yes  ...              Yes   \n",
       "4                No     Fiber optic             No  ...               No   \n",
       "\n",
       "  TechSupport StreamingTV StreamingMovies        Contract PaperlessBilling  \\\n",
       "0          No          No              No  Month-to-month              Yes   \n",
       "1          No          No              No        One year               No   \n",
       "2          No          No              No  Month-to-month              Yes   \n",
       "3         Yes          No              No        One year               No   \n",
       "4          No          No              No  Month-to-month              Yes   \n",
       "\n",
       "               PaymentMethod MonthlyCharges  TotalCharges Churn  \n",
       "0           Electronic check          29.85         29.85    No  \n",
       "1               Mailed check          56.95        1889.5    No  \n",
       "2               Mailed check          53.85        108.15   Yes  \n",
       "3  Bank transfer (automatic)          42.30       1840.75    No  \n",
       "4           Electronic check          70.70        151.65   Yes  \n",
       "\n",
       "[5 rows x 21 columns]"
      ]
     },
     "execution_count": 2,
     "metadata": {},
     "output_type": "execute_result"
    }
   ],
   "source": [
    "import pandas as pd\n",
    "import warnings\n",
    "warnings.filterwarnings(\"ignore\", category=UserWarning)\n",
    "\n",
    "\n",
    "# Load dataset\n",
    "df = pd.read_csv(\"/kaggle/input/telco-customer-churn/WA_Fn-UseC_-Telco-Customer-Churn.csv\")\n",
    "df.head()\n"
   ]
  },
  {
   "cell_type": "code",
   "execution_count": 3,
   "id": "90d53450",
   "metadata": {
    "execution": {
     "iopub.execute_input": "2025-09-09T03:01:50.500711Z",
     "iopub.status.busy": "2025-09-09T03:01:50.500351Z",
     "iopub.status.idle": "2025-09-09T03:01:50.543486Z",
     "shell.execute_reply": "2025-09-09T03:01:50.542416Z"
    },
    "papermill": {
     "duration": 0.0575,
     "end_time": "2025-09-09T03:01:50.545029",
     "exception": false,
     "start_time": "2025-09-09T03:01:50.487529",
     "status": "completed"
    },
    "tags": []
   },
   "outputs": [
    {
     "name": "stdout",
     "output_type": "stream",
     "text": [
      "<class 'pandas.core.frame.DataFrame'>\n",
      "RangeIndex: 7043 entries, 0 to 7042\n",
      "Data columns (total 21 columns):\n",
      " #   Column            Non-Null Count  Dtype  \n",
      "---  ------            --------------  -----  \n",
      " 0   customerID        7043 non-null   object \n",
      " 1   gender            7043 non-null   object \n",
      " 2   SeniorCitizen     7043 non-null   int64  \n",
      " 3   Partner           7043 non-null   object \n",
      " 4   Dependents        7043 non-null   object \n",
      " 5   tenure            7043 non-null   int64  \n",
      " 6   PhoneService      7043 non-null   object \n",
      " 7   MultipleLines     7043 non-null   object \n",
      " 8   InternetService   7043 non-null   object \n",
      " 9   OnlineSecurity    7043 non-null   object \n",
      " 10  OnlineBackup      7043 non-null   object \n",
      " 11  DeviceProtection  7043 non-null   object \n",
      " 12  TechSupport       7043 non-null   object \n",
      " 13  StreamingTV       7043 non-null   object \n",
      " 14  StreamingMovies   7043 non-null   object \n",
      " 15  Contract          7043 non-null   object \n",
      " 16  PaperlessBilling  7043 non-null   object \n",
      " 17  PaymentMethod     7043 non-null   object \n",
      " 18  MonthlyCharges    7043 non-null   float64\n",
      " 19  TotalCharges      7043 non-null   object \n",
      " 20  Churn             7043 non-null   object \n",
      "dtypes: float64(1), int64(2), object(18)\n",
      "memory usage: 1.1+ MB\n"
     ]
    },
    {
     "data": {
      "text/plain": [
       "Churn\n",
       "No     5174\n",
       "Yes    1869\n",
       "Name: count, dtype: int64"
      ]
     },
     "execution_count": 3,
     "metadata": {},
     "output_type": "execute_result"
    }
   ],
   "source": [
    "# Information about dataset\n",
    "df.info()\n",
    "\n",
    "# Check missing values\n",
    "df.isnull().sum()\n",
    "\n",
    "# Distribution of Churn\n",
    "df['Churn'].value_counts()\n"
   ]
  },
  {
   "cell_type": "code",
   "execution_count": 4,
   "id": "2c2267f8",
   "metadata": {
    "execution": {
     "iopub.execute_input": "2025-09-09T03:01:50.571200Z",
     "iopub.status.busy": "2025-09-09T03:01:50.570895Z",
     "iopub.status.idle": "2025-09-09T03:01:50.595500Z",
     "shell.execute_reply": "2025-09-09T03:01:50.594664Z"
    },
    "papermill": {
     "duration": 0.039588,
     "end_time": "2025-09-09T03:01:50.597082",
     "exception": false,
     "start_time": "2025-09-09T03:01:50.557494",
     "status": "completed"
    },
    "tags": []
   },
   "outputs": [
    {
     "name": "stdout",
     "output_type": "stream",
     "text": [
      "<class 'pandas.core.frame.DataFrame'>\n",
      "RangeIndex: 7043 entries, 0 to 7042\n",
      "Data columns (total 21 columns):\n",
      " #   Column            Non-Null Count  Dtype  \n",
      "---  ------            --------------  -----  \n",
      " 0   customerID        7043 non-null   object \n",
      " 1   gender            7043 non-null   object \n",
      " 2   SeniorCitizen     7043 non-null   int64  \n",
      " 3   Partner           7043 non-null   object \n",
      " 4   Dependents        7043 non-null   object \n",
      " 5   tenure            7043 non-null   int64  \n",
      " 6   PhoneService      7043 non-null   object \n",
      " 7   MultipleLines     7043 non-null   object \n",
      " 8   InternetService   7043 non-null   object \n",
      " 9   OnlineSecurity    7043 non-null   object \n",
      " 10  OnlineBackup      7043 non-null   object \n",
      " 11  DeviceProtection  7043 non-null   object \n",
      " 12  TechSupport       7043 non-null   object \n",
      " 13  StreamingTV       7043 non-null   object \n",
      " 14  StreamingMovies   7043 non-null   object \n",
      " 15  Contract          7043 non-null   object \n",
      " 16  PaperlessBilling  7043 non-null   object \n",
      " 17  PaymentMethod     7043 non-null   object \n",
      " 18  MonthlyCharges    7043 non-null   float64\n",
      " 19  TotalCharges      7032 non-null   float64\n",
      " 20  Churn             7043 non-null   object \n",
      "dtypes: float64(2), int64(2), object(17)\n",
      "memory usage: 1.1+ MB\n"
     ]
    },
    {
     "data": {
      "text/plain": [
       "11"
      ]
     },
     "execution_count": 4,
     "metadata": {},
     "output_type": "execute_result"
    }
   ],
   "source": [
    "# Convert TotalCharges to numeric (coerce errors into NaN)\n",
    "df['TotalCharges'] = pd.to_numeric(df['TotalCharges'], errors='coerce')\n",
    "\n",
    "# Now check again\n",
    "df.info()\n",
    "df['TotalCharges'].isnull().sum()\n"
   ]
  },
  {
   "cell_type": "code",
   "execution_count": 5,
   "id": "245bedc2",
   "metadata": {
    "execution": {
     "iopub.execute_input": "2025-09-09T03:01:50.623148Z",
     "iopub.status.busy": "2025-09-09T03:01:50.622867Z",
     "iopub.status.idle": "2025-09-09T03:01:50.632400Z",
     "shell.execute_reply": "2025-09-09T03:01:50.631446Z"
    },
    "papermill": {
     "duration": 0.024436,
     "end_time": "2025-09-09T03:01:50.634043",
     "exception": false,
     "start_time": "2025-09-09T03:01:50.609607",
     "status": "completed"
    },
    "tags": []
   },
   "outputs": [
    {
     "data": {
      "text/plain": [
       "Churn\n",
       "No     73.463013\n",
       "Yes    26.536987\n",
       "Name: proportion, dtype: float64"
      ]
     },
     "execution_count": 5,
     "metadata": {},
     "output_type": "execute_result"
    }
   ],
   "source": [
    "df['Churn'].value_counts()\n",
    "df['Churn'].value_counts(normalize=True) * 100\n"
   ]
  },
  {
   "cell_type": "code",
   "execution_count": 6,
   "id": "ad1953ed",
   "metadata": {
    "execution": {
     "iopub.execute_input": "2025-09-09T03:01:50.664790Z",
     "iopub.status.busy": "2025-09-09T03:01:50.664479Z",
     "iopub.status.idle": "2025-09-09T03:01:52.367730Z",
     "shell.execute_reply": "2025-09-09T03:01:52.366662Z"
    },
    "papermill": {
     "duration": 1.720368,
     "end_time": "2025-09-09T03:01:52.369372",
     "exception": false,
     "start_time": "2025-09-09T03:01:50.649004",
     "status": "completed"
    },
    "tags": []
   },
   "outputs": [
    {
     "data": {
      "text/html": [
       "<div>\n",
       "<style scoped>\n",
       "    .dataframe tbody tr th:only-of-type {\n",
       "        vertical-align: middle;\n",
       "    }\n",
       "\n",
       "    .dataframe tbody tr th {\n",
       "        vertical-align: top;\n",
       "    }\n",
       "\n",
       "    .dataframe thead th {\n",
       "        text-align: right;\n",
       "    }\n",
       "</style>\n",
       "<table border=\"1\" class=\"dataframe\">\n",
       "  <thead>\n",
       "    <tr style=\"text-align: right;\">\n",
       "      <th></th>\n",
       "      <th>customerID</th>\n",
       "      <th>gender</th>\n",
       "      <th>SeniorCitizen</th>\n",
       "      <th>Partner</th>\n",
       "      <th>Dependents</th>\n",
       "      <th>tenure</th>\n",
       "      <th>PhoneService</th>\n",
       "      <th>PaperlessBilling</th>\n",
       "      <th>MonthlyCharges</th>\n",
       "      <th>TotalCharges</th>\n",
       "      <th>...</th>\n",
       "      <th>StreamingMovies_No</th>\n",
       "      <th>StreamingMovies_No internet service</th>\n",
       "      <th>StreamingMovies_Yes</th>\n",
       "      <th>Contract_Month-to-month</th>\n",
       "      <th>Contract_One year</th>\n",
       "      <th>Contract_Two year</th>\n",
       "      <th>PaymentMethod_Bank transfer (automatic)</th>\n",
       "      <th>PaymentMethod_Credit card (automatic)</th>\n",
       "      <th>PaymentMethod_Electronic check</th>\n",
       "      <th>PaymentMethod_Mailed check</th>\n",
       "    </tr>\n",
       "  </thead>\n",
       "  <tbody>\n",
       "    <tr>\n",
       "      <th>0</th>\n",
       "      <td>7590-VHVEG</td>\n",
       "      <td>0</td>\n",
       "      <td>0</td>\n",
       "      <td>1</td>\n",
       "      <td>0</td>\n",
       "      <td>1</td>\n",
       "      <td>0</td>\n",
       "      <td>1</td>\n",
       "      <td>29.85</td>\n",
       "      <td>29.85</td>\n",
       "      <td>...</td>\n",
       "      <td>True</td>\n",
       "      <td>False</td>\n",
       "      <td>False</td>\n",
       "      <td>True</td>\n",
       "      <td>False</td>\n",
       "      <td>False</td>\n",
       "      <td>False</td>\n",
       "      <td>False</td>\n",
       "      <td>True</td>\n",
       "      <td>False</td>\n",
       "    </tr>\n",
       "    <tr>\n",
       "      <th>1</th>\n",
       "      <td>5575-GNVDE</td>\n",
       "      <td>1</td>\n",
       "      <td>0</td>\n",
       "      <td>0</td>\n",
       "      <td>0</td>\n",
       "      <td>34</td>\n",
       "      <td>1</td>\n",
       "      <td>0</td>\n",
       "      <td>56.95</td>\n",
       "      <td>1889.50</td>\n",
       "      <td>...</td>\n",
       "      <td>True</td>\n",
       "      <td>False</td>\n",
       "      <td>False</td>\n",
       "      <td>False</td>\n",
       "      <td>True</td>\n",
       "      <td>False</td>\n",
       "      <td>False</td>\n",
       "      <td>False</td>\n",
       "      <td>False</td>\n",
       "      <td>True</td>\n",
       "    </tr>\n",
       "    <tr>\n",
       "      <th>2</th>\n",
       "      <td>3668-QPYBK</td>\n",
       "      <td>1</td>\n",
       "      <td>0</td>\n",
       "      <td>0</td>\n",
       "      <td>0</td>\n",
       "      <td>2</td>\n",
       "      <td>1</td>\n",
       "      <td>1</td>\n",
       "      <td>53.85</td>\n",
       "      <td>108.15</td>\n",
       "      <td>...</td>\n",
       "      <td>True</td>\n",
       "      <td>False</td>\n",
       "      <td>False</td>\n",
       "      <td>True</td>\n",
       "      <td>False</td>\n",
       "      <td>False</td>\n",
       "      <td>False</td>\n",
       "      <td>False</td>\n",
       "      <td>False</td>\n",
       "      <td>True</td>\n",
       "    </tr>\n",
       "    <tr>\n",
       "      <th>3</th>\n",
       "      <td>7795-CFOCW</td>\n",
       "      <td>1</td>\n",
       "      <td>0</td>\n",
       "      <td>0</td>\n",
       "      <td>0</td>\n",
       "      <td>45</td>\n",
       "      <td>0</td>\n",
       "      <td>0</td>\n",
       "      <td>42.30</td>\n",
       "      <td>1840.75</td>\n",
       "      <td>...</td>\n",
       "      <td>True</td>\n",
       "      <td>False</td>\n",
       "      <td>False</td>\n",
       "      <td>False</td>\n",
       "      <td>True</td>\n",
       "      <td>False</td>\n",
       "      <td>True</td>\n",
       "      <td>False</td>\n",
       "      <td>False</td>\n",
       "      <td>False</td>\n",
       "    </tr>\n",
       "    <tr>\n",
       "      <th>4</th>\n",
       "      <td>9237-HQITU</td>\n",
       "      <td>0</td>\n",
       "      <td>0</td>\n",
       "      <td>0</td>\n",
       "      <td>0</td>\n",
       "      <td>2</td>\n",
       "      <td>1</td>\n",
       "      <td>1</td>\n",
       "      <td>70.70</td>\n",
       "      <td>151.65</td>\n",
       "      <td>...</td>\n",
       "      <td>True</td>\n",
       "      <td>False</td>\n",
       "      <td>False</td>\n",
       "      <td>True</td>\n",
       "      <td>False</td>\n",
       "      <td>False</td>\n",
       "      <td>False</td>\n",
       "      <td>False</td>\n",
       "      <td>True</td>\n",
       "      <td>False</td>\n",
       "    </tr>\n",
       "  </tbody>\n",
       "</table>\n",
       "<p>5 rows × 42 columns</p>\n",
       "</div>"
      ],
      "text/plain": [
       "   customerID  gender  SeniorCitizen  Partner  Dependents  tenure  \\\n",
       "0  7590-VHVEG       0              0        1           0       1   \n",
       "1  5575-GNVDE       1              0        0           0      34   \n",
       "2  3668-QPYBK       1              0        0           0       2   \n",
       "3  7795-CFOCW       1              0        0           0      45   \n",
       "4  9237-HQITU       0              0        0           0       2   \n",
       "\n",
       "   PhoneService  PaperlessBilling  MonthlyCharges  TotalCharges  ...  \\\n",
       "0             0                 1           29.85         29.85  ...   \n",
       "1             1                 0           56.95       1889.50  ...   \n",
       "2             1                 1           53.85        108.15  ...   \n",
       "3             0                 0           42.30       1840.75  ...   \n",
       "4             1                 1           70.70        151.65  ...   \n",
       "\n",
       "   StreamingMovies_No  StreamingMovies_No internet service  \\\n",
       "0                True                                False   \n",
       "1                True                                False   \n",
       "2                True                                False   \n",
       "3                True                                False   \n",
       "4                True                                False   \n",
       "\n",
       "   StreamingMovies_Yes  Contract_Month-to-month  Contract_One year  \\\n",
       "0                False                     True              False   \n",
       "1                False                    False               True   \n",
       "2                False                     True              False   \n",
       "3                False                    False               True   \n",
       "4                False                     True              False   \n",
       "\n",
       "   Contract_Two year  PaymentMethod_Bank transfer (automatic)  \\\n",
       "0              False                                    False   \n",
       "1              False                                    False   \n",
       "2              False                                    False   \n",
       "3              False                                     True   \n",
       "4              False                                    False   \n",
       "\n",
       "   PaymentMethod_Credit card (automatic)  PaymentMethod_Electronic check  \\\n",
       "0                                  False                            True   \n",
       "1                                  False                           False   \n",
       "2                                  False                           False   \n",
       "3                                  False                           False   \n",
       "4                                  False                            True   \n",
       "\n",
       "   PaymentMethod_Mailed check  \n",
       "0                       False  \n",
       "1                        True  \n",
       "2                        True  \n",
       "3                       False  \n",
       "4                       False  \n",
       "\n",
       "[5 rows x 42 columns]"
      ]
     },
     "execution_count": 6,
     "metadata": {},
     "output_type": "execute_result"
    }
   ],
   "source": [
    "from sklearn.preprocessing import LabelEncoder\n",
    "import pandas as pd\n",
    "\n",
    "df_clean = df.copy()\n",
    "\n",
    "# Label Encoding for binary columns\n",
    "binary_cols = ['gender', 'Partner', 'Dependents', 'PhoneService', 'PaperlessBilling', 'Churn']\n",
    "le = LabelEncoder()\n",
    "for col in binary_cols:\n",
    "    df_clean[col] = le.fit_transform(df_clean[col])\n",
    "\n",
    "# One-Hot Encoding for multi-class columns\n",
    "multi_cols = ['MultipleLines','InternetService','OnlineSecurity','OnlineBackup','DeviceProtection',\n",
    "              'TechSupport','StreamingTV','StreamingMovies','Contract','PaymentMethod']\n",
    "\n",
    "df_clean = pd.get_dummies(df_clean, columns=multi_cols)\n",
    "\n",
    "df_clean.head()\n"
   ]
  },
  {
   "cell_type": "code",
   "execution_count": 7,
   "id": "89029563",
   "metadata": {
    "execution": {
     "iopub.execute_input": "2025-09-09T03:01:52.396196Z",
     "iopub.status.busy": "2025-09-09T03:01:52.395733Z",
     "iopub.status.idle": "2025-09-09T03:01:52.539652Z",
     "shell.execute_reply": "2025-09-09T03:01:52.538169Z"
    },
    "papermill": {
     "duration": 0.159119,
     "end_time": "2025-09-09T03:01:52.541184",
     "exception": false,
     "start_time": "2025-09-09T03:01:52.382065",
     "status": "completed"
    },
    "tags": []
   },
   "outputs": [
    {
     "name": "stdout",
     "output_type": "stream",
     "text": [
      "Train shape: (5634, 41)\n",
      "Test shape: (1409, 41)\n"
     ]
    }
   ],
   "source": [
    "from sklearn.model_selection import train_test_split\n",
    "\n",
    "# X = features (all columns except Churn)\n",
    "X = df_clean.drop('Churn', axis=1)\n",
    "\n",
    "# y = target (only Churn column)\n",
    "y = df_clean['Churn']\n",
    "\n",
    "# Split into training (80%) and testing (20%)\n",
    "X_train, X_test, y_train, y_test = train_test_split(\n",
    "    X, y, test_size=0.2, random_state=42, stratify=y\n",
    ")\n",
    "\n",
    "print(\"Train shape:\", X_train.shape)\n",
    "print(\"Test shape:\", X_test.shape)\n"
   ]
  },
  {
   "cell_type": "code",
   "execution_count": 8,
   "id": "b11280df",
   "metadata": {
    "execution": {
     "iopub.execute_input": "2025-09-09T03:01:52.567935Z",
     "iopub.status.busy": "2025-09-09T03:01:52.567608Z",
     "iopub.status.idle": "2025-09-09T03:01:52.653709Z",
     "shell.execute_reply": "2025-09-09T03:01:52.652674Z"
    },
    "papermill": {
     "duration": 0.101277,
     "end_time": "2025-09-09T03:01:52.655388",
     "exception": false,
     "start_time": "2025-09-09T03:01:52.554111",
     "status": "completed"
    },
    "tags": []
   },
   "outputs": [
    {
     "name": "stdout",
     "output_type": "stream",
     "text": [
      "Encoded train shape: (5634, 5674)\n",
      "Encoded test shape: (1409, 5674)\n"
     ]
    }
   ],
   "source": [
    "from sklearn.preprocessing import OneHotEncoder\n",
    "from sklearn.compose import ColumnTransformer\n",
    "\n",
    "# Identify categorical columns (object or category dtype)\n",
    "categorical_cols = X.select_dtypes(include=['object']).columns\n",
    "\n",
    "# Apply OneHotEncoding to categorical columns, leave numeric as is\n",
    "ct = ColumnTransformer(\n",
    "    transformers=[('encoder', OneHotEncoder(handle_unknown='ignore'), categorical_cols)],\n",
    "    remainder='passthrough'  # keep numeric columns\n",
    ")\n",
    "\n",
    "X_train_encoded = ct.fit_transform(X_train)\n",
    "X_test_encoded = ct.transform(X_test)\n",
    "\n",
    "print(\"Encoded train shape:\", X_train_encoded.shape)\n",
    "print(\"Encoded test shape:\", X_test_encoded.shape)\n"
   ]
  },
  {
   "cell_type": "code",
   "execution_count": 9,
   "id": "c041b8b6",
   "metadata": {
    "execution": {
     "iopub.execute_input": "2025-09-09T03:01:52.683038Z",
     "iopub.status.busy": "2025-09-09T03:01:52.682711Z",
     "iopub.status.idle": "2025-09-09T03:01:55.573961Z",
     "shell.execute_reply": "2025-09-09T03:01:55.572832Z"
    },
    "papermill": {
     "duration": 2.907047,
     "end_time": "2025-09-09T03:01:55.575892",
     "exception": false,
     "start_time": "2025-09-09T03:01:52.668845",
     "status": "completed"
    },
    "tags": []
   },
   "outputs": [
    {
     "name": "stdout",
     "output_type": "stream",
     "text": [
      "After imputation: (5634, 5674) (1409, 5674)\n"
     ]
    }
   ],
   "source": [
    "from sklearn.impute import SimpleImputer\n",
    "\n",
    "# Create imputer (fill missing values with 0)\n",
    "imputer = SimpleImputer(strategy='most_frequent')\n",
    "\n",
    "# Apply imputer to encoded train and test data\n",
    "X_train_encoded = imputer.fit_transform(X_train_encoded)\n",
    "X_test_encoded = imputer.transform(X_test_encoded)\n",
    "\n",
    "print(\"After imputation:\", X_train_encoded.shape, X_test_encoded.shape)\n"
   ]
  },
  {
   "cell_type": "code",
   "execution_count": 10,
   "id": "bf4e2926",
   "metadata": {
    "execution": {
     "iopub.execute_input": "2025-09-09T03:01:55.603143Z",
     "iopub.status.busy": "2025-09-09T03:01:55.602854Z",
     "iopub.status.idle": "2025-09-09T03:01:56.875933Z",
     "shell.execute_reply": "2025-09-09T03:01:56.872520Z"
    },
    "papermill": {
     "duration": 1.28998,
     "end_time": "2025-09-09T03:01:56.878924",
     "exception": false,
     "start_time": "2025-09-09T03:01:55.588944",
     "status": "completed"
    },
    "tags": []
   },
   "outputs": [
    {
     "name": "stdout",
     "output_type": "stream",
     "text": [
      "Accuracy: 0.7366926898509581\n",
      "\n",
      "Confusion Matrix:\n",
      " [[749 286]\n",
      " [ 85 289]]\n",
      "\n",
      "Classification Report:\n",
      "               precision    recall  f1-score   support\n",
      "\n",
      "           0       0.90      0.72      0.80      1035\n",
      "           1       0.50      0.77      0.61       374\n",
      "\n",
      "    accuracy                           0.74      1409\n",
      "   macro avg       0.70      0.75      0.71      1409\n",
      "weighted avg       0.79      0.74      0.75      1409\n",
      "\n"
     ]
    }
   ],
   "source": [
    "from sklearn.linear_model import LogisticRegression\n",
    "from sklearn.metrics import accuracy_score, confusion_matrix, classification_report\n",
    "\n",
    "# Train Logistic Regression on imputed data\n",
    "model = LogisticRegression(max_iter=1000, class_weight='balanced', random_state=42)\n",
    "model.fit(X_train_encoded, y_train)\n",
    "\n",
    "# Predictions\n",
    "y_pred = model.predict(X_test_encoded)\n",
    "\n",
    "# Evaluation\n",
    "print(\"Accuracy:\", accuracy_score(y_test, y_pred))\n",
    "print(\"\\nConfusion Matrix:\\n\", confusion_matrix(y_test, y_pred))\n",
    "print(\"\\nClassification Report:\\n\", classification_report(y_test, y_pred))\n",
    "  "
   ]
  },
  {
   "cell_type": "code",
   "execution_count": 11,
   "id": "f1d2ed0d",
   "metadata": {
    "execution": {
     "iopub.execute_input": "2025-09-09T03:01:56.927199Z",
     "iopub.status.busy": "2025-09-09T03:01:56.925705Z",
     "iopub.status.idle": "2025-09-09T03:01:56.936332Z",
     "shell.execute_reply": "2025-09-09T03:01:56.935481Z"
    },
    "papermill": {
     "duration": 0.035932,
     "end_time": "2025-09-09T03:01:56.938829",
     "exception": false,
     "start_time": "2025-09-09T03:01:56.902897",
     "status": "completed"
    },
    "tags": []
   },
   "outputs": [
    {
     "name": "stdout",
     "output_type": "stream",
     "text": [
      "First 10 predicted churn probabilities: [0.08949874 0.86007275 0.15292184 0.68186572 0.03657112 0.81500091\n",
      " 0.71244097 0.29452677 0.00796878 0.58296143]\n"
     ]
    }
   ],
   "source": [
    "# Probabilities of churn (class 1)\n",
    "y_proba = model.predict_proba(X_test_encoded)[:, 1]\n",
    "\n",
    "print(\"First 10 predicted churn probabilities:\", y_proba[:10])\n"
   ]
  },
  {
   "cell_type": "code",
   "execution_count": 12,
   "id": "615a40eb",
   "metadata": {
    "execution": {
     "iopub.execute_input": "2025-09-09T03:01:56.999103Z",
     "iopub.status.busy": "2025-09-09T03:01:56.997765Z",
     "iopub.status.idle": "2025-09-09T03:01:57.296684Z",
     "shell.execute_reply": "2025-09-09T03:01:57.295509Z"
    },
    "papermill": {
     "duration": 0.331018,
     "end_time": "2025-09-09T03:01:57.298386",
     "exception": false,
     "start_time": "2025-09-09T03:01:56.967368",
     "status": "completed"
    },
    "tags": []
   },
   "outputs": [
    {
     "name": "stdout",
     "output_type": "stream",
     "text": [
      "ROC-AUC Score: 0.8396109431915058\n"
     ]
    },
    {
     "data": {
      "image/png": "[encoded data removed]",
      "text/plain": [
       "<Figure size 640x480 with 1 Axes>"
      ]
     },
     "metadata": {},
     "output_type": "display_data"
    }
   ],
   "source": [
    "from sklearn.metrics import roc_auc_score, roc_curve\n",
    "import matplotlib.pyplot as plt\n",
    "\n",
    "# 1. Calculate AUC score\n",
    "auc = roc_auc_score(y_test, y_proba)\n",
    "print(\"ROC-AUC Score:\", auc)\n",
    "\n",
    "# 2. Get ROC curve values\n",
    "fpr, tpr, thresholds = roc_curve(y_test, y_proba)\n",
    "\n",
    "# 3. Plot ROC Curve\n",
    "plt.plot(fpr, tpr, label=f\"AUC = {auc:.2f}\")\n",
    "plt.plot([0,1],[0,1],'--', color='gray')\n",
    "plt.xlabel(\"False Positive Rate\")\n",
    "plt.ylabel(\"True Positive Rate\")\n",
    "plt.title(\"ROC Curve\")\n",
    "plt.legend()\n",
    "plt.show()\n"
   ]
  },
  {
   "cell_type": "code",
   "execution_count": 13,
   "id": "3adb29e5",
   "metadata": {
    "execution": {
     "iopub.execute_input": "2025-09-09T03:01:57.395014Z",
     "iopub.status.busy": "2025-09-09T03:01:57.394670Z",
     "iopub.status.idle": "2025-09-09T03:01:57.410211Z",
     "shell.execute_reply": "2025-09-09T03:01:57.409286Z"
    },
    "papermill": {
     "duration": 0.03265,
     "end_time": "2025-09-09T03:01:57.412102",
     "exception": false,
     "start_time": "2025-09-09T03:01:57.379452",
     "status": "completed"
    },
    "tags": []
   },
   "outputs": [
    {
     "name": "stdout",
     "output_type": "stream",
     "text": [
      "                                                Feature  Importance\n",
      "5669                       remainder__Contract_Two year   -1.030258\n",
      "5667                 remainder__Contract_Month-to-month    0.830144\n",
      "5646                     remainder__InternetService_DSL   -0.456804\n",
      "5647             remainder__InternetService_Fiber optic    0.440265\n",
      "5640                        remainder__PaperlessBilling    0.305524\n",
      "5639                            remainder__PhoneService   -0.286025\n",
      "5643                        remainder__MultipleLines_No   -0.263328\n",
      "5637                              remainder__Dependents   -0.223387\n",
      "5651                      remainder__OnlineSecurity_Yes   -0.207772\n",
      "5649                       remainder__OnlineSecurity_No    0.191233\n",
      "5672          remainder__PaymentMethod_Electronic check    0.185072\n",
      "5644          remainder__MultipleLines_No phone service    0.168872\n",
      "5660                         remainder__TechSupport_Yes   -0.168002\n",
      "5658                          remainder__TechSupport_No    0.151463\n",
      "5670  remainder__PaymentMethod_Bank transfer (automa...   -0.132632\n"
     ]
    }
   ],
   "source": [
    "import pandas as pd\n",
    "\n",
    "# Get feature names after OneHotEncoding\n",
    "feature_names = ct.get_feature_names_out()\n",
    "\n",
    "# Get feature importance (coefficients in logistic regression)\n",
    "importance = model.coef_[0]\n",
    "\n",
    "# Put into DataFrame\n",
    "feat_imp = pd.DataFrame({\n",
    "    \"Feature\": feature_names,\n",
    "    \"Importance\": importance\n",
    "}).sort_values(by=\"Importance\", key=abs, ascending=False)\n",
    "\n",
    "print(feat_imp.head(15))  # show top 15 important features\n"
   ]
  },
  {
   "cell_type": "code",
   "execution_count": 14,
   "id": "1016d97d",
   "metadata": {
    "execution": {
     "iopub.execute_input": "2025-09-09T03:01:57.441636Z",
     "iopub.status.busy": "2025-09-09T03:01:57.441284Z",
     "iopub.status.idle": "2025-09-09T03:01:57.826840Z",
     "shell.execute_reply": "2025-09-09T03:01:57.825789Z"
    },
    "papermill": {
     "duration": 0.401763,
     "end_time": "2025-09-09T03:01:57.828371",
     "exception": false,
     "start_time": "2025-09-09T03:01:57.426608",
     "status": "completed"
    },
    "tags": []
   },
   "outputs": [
    {
     "data": {
      "image/png": "[encoded data removed]",
      "text/plain": [
       "<Figure size 1000x600 with 1 Axes>"
      ]
     },
     "metadata": {},
     "output_type": "display_data"
    }
   ],
   "source": [
    "import matplotlib.pyplot as plt\n",
    "\n",
    "# Take top 15 features\n",
    "top_features = feat_imp.head(15)\n",
    "\n",
    "# Plot\n",
    "plt.figure(figsize=(10,6))\n",
    "plt.barh(top_features[\"Feature\"], top_features[\"Importance\"])\n",
    "plt.xlabel(\"Coefficient Importance\")\n",
    "plt.ylabel(\"Feature\")\n",
    "plt.title(\"Top 15 Features Influencing Customer Churn\")\n",
    "plt.gca().invert_yaxis()  # biggest on top\n",
    "plt.show()\n"
   ]
  },
  {
   "cell_type": "code",
   "execution_count": 15,
   "id": "70d74593",
   "metadata": {
    "execution": {
     "iopub.execute_input": "2025-09-09T03:01:57.861187Z",
     "iopub.status.busy": "2025-09-09T03:01:57.860890Z",
     "iopub.status.idle": "2025-09-09T03:01:57.881004Z",
     "shell.execute_reply": "2025-09-09T03:01:57.880097Z"
    },
    "papermill": {
     "duration": 0.038321,
     "end_time": "2025-09-09T03:01:57.882319",
     "exception": false,
     "start_time": "2025-09-09T03:01:57.843998",
     "status": "completed"
    },
    "tags": []
   },
   "outputs": [
    {
     "name": "stdout",
     "output_type": "stream",
     "text": [
      "Predicted class: 0\n",
      "Churn probability: 0.08949873812913013\n"
     ]
    }
   ],
   "source": [
    "# Example: take one customer from test set\n",
    "sample = X_test.iloc[0:1]   # first row of test data\n",
    "sample_encoded = ct.transform(sample)  # apply same encoding\n",
    "\n",
    "# Predict churn\n",
    "prediction = model.predict(sample_encoded)\n",
    "probability = model.predict_proba(sample_encoded)[0][1]  # probability of churn\n",
    "\n",
    "print(\"Predicted class:\", prediction[0])  \n",
    "print(\"Churn probability:\", probability)\n"
   ]
  },
  {
   "cell_type": "code",
   "execution_count": 16,
   "id": "5f0c3173",
   "metadata": {
    "execution": {
     "iopub.execute_input": "2025-09-09T03:01:57.914693Z",
     "iopub.status.busy": "2025-09-09T03:01:57.914292Z",
     "iopub.status.idle": "2025-09-09T03:01:57.922490Z",
     "shell.execute_reply": "2025-09-09T03:01:57.921288Z"
    },
    "papermill": {
     "duration": 0.025882,
     "end_time": "2025-09-09T03:01:57.923963",
     "exception": false,
     "start_time": "2025-09-09T03:01:57.898081",
     "status": "completed"
    },
    "tags": []
   },
   "outputs": [
    {
     "name": "stdout",
     "output_type": "stream",
     "text": [
      "      Actual  Predicted  Churn_Probability\n",
      "437        0          0           0.089499\n",
      "2280       0          1           0.860073\n",
      "2235       0          0           0.152922\n",
      "4460       0          1           0.681866\n",
      "3761       0          0           0.036571\n",
      "5748       0          1           0.815001\n",
      "3568       0          1           0.712441\n",
      "2976       0          0           0.294527\n",
      "5928       0          0           0.007969\n",
      "1639       1          1           0.582961\n"
     ]
    }
   ],
   "source": [
    "results = pd.DataFrame({\n",
    "    \"Actual\": y_test,\n",
    "    \"Predicted\": y_pred,\n",
    "    \"Churn_Probability\": y_proba\n",
    "})\n",
    "print(results.head(10))\n"
   ]
  },
  {
   "cell_type": "code",
   "execution_count": 17,
   "id": "f52a3441",
   "metadata": {
    "execution": {
     "iopub.execute_input": "2025-09-09T03:01:57.956848Z",
     "iopub.status.busy": "2025-09-09T03:01:57.956535Z",
     "iopub.status.idle": "2025-09-09T03:01:57.967550Z",
     "shell.execute_reply": "2025-09-09T03:01:57.966535Z"
    },
    "papermill": {
     "duration": 0.02914,
     "end_time": "2025-09-09T03:01:57.969169",
     "exception": false,
     "start_time": "2025-09-09T03:01:57.940029",
     "status": "completed"
    },
    "tags": []
   },
   "outputs": [
    {
     "data": {
      "text/plain": [
       "['encoder.pkl']"
      ]
     },
     "execution_count": 17,
     "metadata": {},
     "output_type": "execute_result"
    }
   ],
   "source": [
    "import joblib\n",
    "\n",
    "# Save\n",
    "joblib.dump(model, \"churn_model.pkl\")\n",
    "joblib.dump(ct, \"encoder.pkl\")\n",
    "\n",
    "# Load later\n",
    "# model = joblib.load(\"churn_model.pkl\")\n",
    "# ct = joblib.load(\"encoder.pkl\")\n"
   ]
  },
  {
   "cell_type": "code",
   "execution_count": 18,
   "id": "6c2e9451",
   "metadata": {
    "execution": {
     "iopub.execute_input": "2025-09-09T03:01:58.002483Z",
     "iopub.status.busy": "2025-09-09T03:01:58.002093Z",
     "iopub.status.idle": "2025-09-09T03:01:58.064276Z",
     "shell.execute_reply": "2025-09-09T03:01:58.063357Z"
    },
    "papermill": {
     "duration": 0.080994,
     "end_time": "2025-09-09T03:01:58.066055",
     "exception": false,
     "start_time": "2025-09-09T03:01:57.985061",
     "status": "completed"
    },
    "tags": []
   },
   "outputs": [
    {
     "data": {
      "text/plain": [
       "['training_columns.pkl']"
      ]
     },
     "execution_count": 18,
     "metadata": {},
     "output_type": "execute_result"
    }
   ],
   "source": [
    "import joblib\n",
    "import pandas as pd\n",
    "\n",
    "# Suppose you did:\n",
    "X_train_encoded = pd.get_dummies(X_train)\n",
    "\n",
    "# Save model + training columns\n",
    "joblib.dump(model, \"churn_model.pkl\")\n",
    "joblib.dump(X_train_encoded.columns, \"training_columns.pkl\")\n"
   ]
  },
  {
   "cell_type": "code",
   "execution_count": 19,
   "id": "bea64803",
   "metadata": {
    "execution": {
     "iopub.execute_input": "2025-09-09T03:01:58.099275Z",
     "iopub.status.busy": "2025-09-09T03:01:58.098971Z",
     "iopub.status.idle": "2025-09-09T03:01:58.110729Z",
     "shell.execute_reply": "2025-09-09T03:01:58.109584Z"
    },
    "papermill": {
     "duration": 0.030156,
     "end_time": "2025-09-09T03:01:58.112250",
     "exception": false,
     "start_time": "2025-09-09T03:01:58.082094",
     "status": "completed"
    },
    "tags": []
   },
   "outputs": [
    {
     "name": "stdout",
     "output_type": "stream",
     "text": [
      "/kaggle/input/telco-customer-churn/WA_Fn-UseC_-Telco-Customer-Churn.csv\n",
      "/kaggle/input/archive-zip-file/WA_Fn-UseC_-Telco-Customer-Churn.csv\n",
      "/kaggle/input/telco-customer-churn-csv/WA_Fn-UseC_-Telco-Customer-Churn.csv\n",
      "/kaggle/input/telco-customer-churn-logisticregression/Rplot001.png\n",
      "/kaggle/input/telco-customer-churn-logisticregression/__results__.html\n",
      "/kaggle/input/telco-customer-churn-logisticregression/__output__.json\n",
      "/kaggle/input/telco-customer-churn-logisticregression/custom.css\n",
      "/kaggle/input/telco-customer-churn-logisticregression/__results___files/__results___20_1.png\n",
      "/kaggle/input/telco-customer-churn-logisticregression/__results___files/__results___18_1.png\n",
      "/kaggle/input/telco-customer-churn-logisticregression/__results___files/__results___31_1.png\n",
      "/kaggle/input/telco-customer-churn-logisticregression/__results___files/__results___85_0.png\n",
      "/kaggle/input/telco-customer-churn-logisticregression/__results___files/__results___14_1.png\n",
      "/kaggle/input/telco-customer-churn-logisticregression/__results___files/__results___87_0.png\n",
      "/kaggle/input/telco-customer-churn-logisticregression/__results___files/__results___33_1.png\n",
      "/kaggle/input/telco-customer-churn-logisticregression/__results___files/__results___29_1.png\n",
      "/kaggle/input/telco-customer-churn-logisticregression/__results___files/__results___6_1.png\n",
      "/kaggle/input/telco-customer-churn-logisticregression/__results___files/__results___25_1.png\n",
      "/kaggle/input/telco-customer-churn-logisticregression/__results___files/__results___27_1.png\n",
      "/kaggle/input/telco-customer-churn-logisticregression/__results___files/__results___23_1.png\n",
      "/kaggle/input/telco-customer-churn-logisticregression/__results___files/__results___66_1.png\n",
      "/kaggle/input/telco-customer-churn-logisticregression/__results___files/__results___32_1.png\n",
      "/kaggle/input/telco-customer-churn-logisticregression/__results___files/__results___16_1.png\n",
      "/kaggle/input/telco-customer-churn-logisticregression/__results___files/__results___42_1.png\n"
     ]
    }
   ],
   "source": [
    "import os\n",
    "\n",
    "for dirname, _, filenames in os.walk('/kaggle/input'):\n",
    "    for filename in filenames:\n",
    "        print(os.path.join(dirname, filename))\n"
   ]
  },
  {
   "cell_type": "code",
   "execution_count": 20,
   "id": "d12e9ff2",
   "metadata": {
    "execution": {
     "iopub.execute_input": "2025-09-09T03:01:58.145946Z",
     "iopub.status.busy": "2025-09-09T03:01:58.145607Z",
     "iopub.status.idle": "2025-09-09T03:01:58.202813Z",
     "shell.execute_reply": "2025-09-09T03:01:58.201468Z"
    },
    "papermill": {
     "duration": 0.07653,
     "end_time": "2025-09-09T03:01:58.204902",
     "exception": false,
     "start_time": "2025-09-09T03:01:58.128372",
     "status": "completed"
    },
    "tags": []
   },
   "outputs": [
    {
     "name": "stdout",
     "output_type": "stream",
     "text": [
      "(7043, 21)\n",
      "   customerID  gender  SeniorCitizen Partner Dependents  tenure PhoneService  \\\n",
      "0  7590-VHVEG  Female              0     Yes         No       1           No   \n",
      "1  5575-GNVDE    Male              0      No         No      34          Yes   \n",
      "2  3668-QPYBK    Male              0      No         No       2          Yes   \n",
      "3  7795-CFOCW    Male              0      No         No      45           No   \n",
      "4  9237-HQITU  Female              0      No         No       2          Yes   \n",
      "\n",
      "      MultipleLines InternetService OnlineSecurity  ... DeviceProtection  \\\n",
      "0  No phone service             DSL             No  ...               No   \n",
      "1                No             DSL            Yes  ...              Yes   \n",
      "2                No             DSL            Yes  ...               No   \n",
      "3  No phone service             DSL            Yes  ...              Yes   \n",
      "4                No     Fiber optic             No  ...               No   \n",
      "\n",
      "  TechSupport StreamingTV StreamingMovies        Contract PaperlessBilling  \\\n",
      "0          No          No              No  Month-to-month              Yes   \n",
      "1          No          No              No        One year               No   \n",
      "2          No          No              No  Month-to-month              Yes   \n",
      "3         Yes          No              No        One year               No   \n",
      "4          No          No              No  Month-to-month              Yes   \n",
      "\n",
      "               PaymentMethod MonthlyCharges  TotalCharges Churn  \n",
      "0           Electronic check          29.85         29.85    No  \n",
      "1               Mailed check          56.95        1889.5    No  \n",
      "2               Mailed check          53.85        108.15   Yes  \n",
      "3  Bank transfer (automatic)          42.30       1840.75    No  \n",
      "4           Electronic check          70.70        151.65   Yes  \n",
      "\n",
      "[5 rows x 21 columns]\n"
     ]
    }
   ],
   "source": [
    "import pandas as pd\n",
    "\n",
    "# Option 1\n",
    "# df = pd.read_csv(\"/kaggle/input/telco-customer-churn/WA_Fn-UseC_-Telco-Customer-Churn.csv\")\n",
    "\n",
    "# Option 2\n",
    "df = pd.read_csv(\"/kaggle/input/telco-customer-churn-csv/WA_Fn-UseC_-Telco-Customer-Churn.csv\")\n",
    "\n",
    "print(df.shape)\n",
    "print(df.head())\n"
   ]
  },
  {
   "cell_type": "code",
   "execution_count": 21,
   "id": "8b863594",
   "metadata": {
    "execution": {
     "iopub.execute_input": "2025-09-09T03:01:58.238317Z",
     "iopub.status.busy": "2025-09-09T03:01:58.237959Z",
     "iopub.status.idle": "2025-09-09T03:01:58.288551Z",
     "shell.execute_reply": "2025-09-09T03:01:58.287411Z"
    },
    "papermill": {
     "duration": 0.069497,
     "end_time": "2025-09-09T03:01:58.290485",
     "exception": false,
     "start_time": "2025-09-09T03:01:58.220988",
     "status": "completed"
    },
    "tags": []
   },
   "outputs": [
    {
     "name": "stdout",
     "output_type": "stream",
     "text": [
      "\n",
      "--- Dataset Info ---\n",
      "<class 'pandas.core.frame.DataFrame'>\n",
      "RangeIndex: 7043 entries, 0 to 7042\n",
      "Data columns (total 21 columns):\n",
      " #   Column            Non-Null Count  Dtype  \n",
      "---  ------            --------------  -----  \n",
      " 0   customerID        7043 non-null   object \n",
      " 1   gender            7043 non-null   object \n",
      " 2   SeniorCitizen     7043 non-null   int64  \n",
      " 3   Partner           7043 non-null   object \n",
      " 4   Dependents        7043 non-null   object \n",
      " 5   tenure            7043 non-null   int64  \n",
      " 6   PhoneService      7043 non-null   object \n",
      " 7   MultipleLines     7043 non-null   object \n",
      " 8   InternetService   7043 non-null   object \n",
      " 9   OnlineSecurity    7043 non-null   object \n",
      " 10  OnlineBackup      7043 non-null   object \n",
      " 11  DeviceProtection  7043 non-null   object \n",
      " 12  TechSupport       7043 non-null   object \n",
      " 13  StreamingTV       7043 non-null   object \n",
      " 14  StreamingMovies   7043 non-null   object \n",
      " 15  Contract          7043 non-null   object \n",
      " 16  PaperlessBilling  7043 non-null   object \n",
      " 17  PaymentMethod     7043 non-null   object \n",
      " 18  MonthlyCharges    7043 non-null   float64\n",
      " 19  TotalCharges      7043 non-null   object \n",
      " 20  Churn             7043 non-null   object \n",
      "dtypes: float64(1), int64(2), object(18)\n",
      "memory usage: 1.1+ MB\n",
      "None\n",
      "\n",
      "--- Missing Values ---\n",
      "customerID          0\n",
      "gender              0\n",
      "SeniorCitizen       0\n",
      "Partner             0\n",
      "Dependents          0\n",
      "tenure              0\n",
      "PhoneService        0\n",
      "MultipleLines       0\n",
      "InternetService     0\n",
      "OnlineSecurity      0\n",
      "OnlineBackup        0\n",
      "DeviceProtection    0\n",
      "TechSupport         0\n",
      "StreamingTV         0\n",
      "StreamingMovies     0\n",
      "Contract            0\n",
      "PaperlessBilling    0\n",
      "PaymentMethod       0\n",
      "MonthlyCharges      0\n",
      "TotalCharges        0\n",
      "Churn               0\n",
      "dtype: int64\n",
      "\n",
      "--- Summary Statistics ---\n",
      "       SeniorCitizen       tenure  MonthlyCharges\n",
      "count    7043.000000  7043.000000     7043.000000\n",
      "mean        0.162147    32.371149       64.761692\n",
      "std         0.368612    24.559481       30.090047\n",
      "min         0.000000     0.000000       18.250000\n",
      "25%         0.000000     9.000000       35.500000\n",
      "50%         0.000000    29.000000       70.350000\n",
      "75%         0.000000    55.000000       89.850000\n",
      "max         1.000000    72.000000      118.750000\n",
      "\n",
      "--- Churn Distribution ---\n",
      "Churn\n",
      "No     5174\n",
      "Yes    1869\n",
      "Name: count, dtype: int64\n",
      "\n",
      "--- Sample Unique Values in Each Column ---\n",
      "customerID: ['7590-VHVEG' '5575-GNVDE' '3668-QPYBK' '7795-CFOCW' '9237-HQITU'] ...\n",
      "gender: ['Female' 'Male'] ...\n",
      "Partner: ['Yes' 'No'] ...\n",
      "Dependents: ['No' 'Yes'] ...\n",
      "PhoneService: ['No' 'Yes'] ...\n",
      "MultipleLines: ['No phone service' 'No' 'Yes'] ...\n",
      "InternetService: ['DSL' 'Fiber optic' 'No'] ...\n",
      "OnlineSecurity: ['No' 'Yes' 'No internet service'] ...\n",
      "OnlineBackup: ['Yes' 'No' 'No internet service'] ...\n",
      "DeviceProtection: ['No' 'Yes' 'No internet service'] ...\n",
      "TechSupport: ['No' 'Yes' 'No internet service'] ...\n",
      "StreamingTV: ['No' 'Yes' 'No internet service'] ...\n",
      "StreamingMovies: ['No' 'Yes' 'No internet service'] ...\n",
      "Contract: ['Month-to-month' 'One year' 'Two year'] ...\n",
      "PaperlessBilling: ['Yes' 'No'] ...\n",
      "PaymentMethod: ['Electronic check' 'Mailed check' 'Bank transfer (automatic)'\n",
      " 'Credit card (automatic)'] ...\n",
      "TotalCharges: ['29.85' '1889.5' '108.15' '1840.75' '151.65'] ...\n",
      "Churn: ['No' 'Yes'] ...\n"
     ]
    }
   ],
   "source": [
    "# Dataset information\n",
    "print(\"\\n--- Dataset Info ---\")\n",
    "print(df.info())\n",
    "\n",
    "# Check for missing values\n",
    "print(\"\\n--- Missing Values ---\")\n",
    "print(df.isnull().sum())\n",
    "\n",
    "# Summary statistics for numerical columns\n",
    "print(\"\\n--- Summary Statistics ---\")\n",
    "print(df.describe())\n",
    "\n",
    "# Check target variable distribution (Churn column)\n",
    "print(\"\\n--- Churn Distribution ---\")\n",
    "print(df['Churn'].value_counts())\n",
    "\n",
    "# Preview unique values in categorical columns\n",
    "print(\"\\n--- Sample Unique Values in Each Column ---\")\n",
    "for col in df.select_dtypes(include='object').columns:\n",
    "    print(f\"{col}: {df[col].unique()[:5]} ...\")  # show only first 5 unique values\n"
   ]
  },
  {
   "cell_type": "code",
   "execution_count": 22,
   "id": "d1f8a743",
   "metadata": {
    "execution": {
     "iopub.execute_input": "2025-09-09T03:01:58.328032Z",
     "iopub.status.busy": "2025-09-09T03:01:58.327684Z",
     "iopub.status.idle": "2025-09-09T03:01:59.786943Z",
     "shell.execute_reply": "2025-09-09T03:01:59.785714Z"
    },
    "papermill": {
     "duration": 1.479795,
     "end_time": "2025-09-09T03:01:59.788793",
     "exception": false,
     "start_time": "2025-09-09T03:01:58.308998",
     "status": "completed"
    },
    "tags": []
   },
   "outputs": [
    {
     "data": {
      "image/png": "[encoded data removed]",
      "text/plain": [
       "<Figure size 600x400 with 1 Axes>"
      ]
     },
     "metadata": {},
     "output_type": "display_data"
    },
    {
     "name": "stderr",
     "output_type": "stream",
     "text": [
      "/usr/local/lib/python3.11/dist-packages/seaborn/_oldcore.py:1119: FutureWarning: use_inf_as_na option is deprecated and will be removed in a future version. Convert inf values to NaN before operating instead.\n",
      "  with pd.option_context('mode.use_inf_as_na', True):\n"
     ]
    },
    {
     "data": {
      "image/png": "[encoded data removed]",
      "text/plain": [
       "<Figure size 800x400 with 1 Axes>"
      ]
     },
     "metadata": {},
     "output_type": "display_data"
    },
    {
     "data": {
      "image/png": "[encoded data removed]",
      "text/plain": [
       "<Figure size 800x500 with 1 Axes>"
      ]
     },
     "metadata": {},
     "output_type": "display_data"
    },
    {
     "data": {
      "image/png": "[encoded data removed]",
      "text/plain": [
       "<Figure size 800x500 with 1 Axes>"
      ]
     },
     "metadata": {},
     "output_type": "display_data"
    }
   ],
   "source": [
    "import matplotlib.pyplot as plt\n",
    "import seaborn as sns\n",
    "\n",
    "# Set style\n",
    "sns.set(style=\"whitegrid\")\n",
    "\n",
    "# 1. Churn distribution\n",
    "plt.figure(figsize=(6,4))\n",
    "sns.countplot(x=\"Churn\", data=df, palette=\"Set2\")\n",
    "plt.title(\"Churn Distribution\")\n",
    "plt.show()\n",
    "\n",
    "# 2. Tenure distribution\n",
    "plt.figure(figsize=(8,4))\n",
    "sns.histplot(df[\"tenure\"], bins=30, kde=True, color=\"skyblue\")\n",
    "plt.title(\"Customer Tenure Distribution\")\n",
    "plt.xlabel(\"Tenure (months)\")\n",
    "plt.show()\n",
    "\n",
    "# 3. Monthly charges vs Churn\n",
    "plt.figure(figsize=(8,5))\n",
    "sns.boxplot(x=\"Churn\", y=\"MonthlyCharges\", data=df, palette=\"Set2\")\n",
    "plt.title(\"Monthly Charges vs Churn\")\n",
    "plt.show()\n",
    "\n",
    "# 4. Contract type vs Churn\n",
    "plt.figure(figsize=(8,5))\n",
    "sns.countplot(x=\"Contract\", hue=\"Churn\", data=df, palette=\"Set2\")\n",
    "plt.title(\"Contract Type vs Churn\")\n",
    "plt.xticks(rotation=30)\n",
    "plt.show()\n"
   ]
  },
  {
   "cell_type": "code",
   "execution_count": 23,
   "id": "6100d77b",
   "metadata": {
    "execution": {
     "iopub.execute_input": "2025-09-09T03:01:59.828160Z",
     "iopub.status.busy": "2025-09-09T03:01:59.827220Z",
     "iopub.status.idle": "2025-09-09T03:01:59.847836Z",
     "shell.execute_reply": "2025-09-09T03:01:59.846744Z"
    },
    "papermill": {
     "duration": 0.041357,
     "end_time": "2025-09-09T03:01:59.849327",
     "exception": false,
     "start_time": "2025-09-09T03:01:59.807970",
     "status": "completed"
    },
    "tags": []
   },
   "outputs": [
    {
     "name": "stdout",
     "output_type": "stream",
     "text": [
      "customerID          0\n",
      "gender              0\n",
      "SeniorCitizen       0\n",
      "Partner             0\n",
      "Dependents          0\n",
      "tenure              0\n",
      "PhoneService        0\n",
      "MultipleLines       0\n",
      "InternetService     0\n",
      "OnlineSecurity      0\n",
      "OnlineBackup        0\n",
      "DeviceProtection    0\n",
      "TechSupport         0\n",
      "StreamingTV         0\n",
      "StreamingMovies     0\n",
      "Contract            0\n",
      "PaperlessBilling    0\n",
      "PaymentMethod       0\n",
      "MonthlyCharges      0\n",
      "TotalCharges        0\n",
      "Churn               0\n",
      "dtype: int64\n"
     ]
    }
   ],
   "source": [
    "# Check again missing values\n",
    "print(df.isnull().sum())\n",
    "\n",
    "# Drop rows with missing 'TotalCharges' (common in this dataset)\n",
    "df = df[df['TotalCharges'] != \" \"]\n",
    "\n",
    "# Convert TotalCharges to numeric\n",
    "df[\"TotalCharges\"] = pd.to_numeric(df[\"TotalCharges\"])\n"
   ]
  },
  {
   "cell_type": "code",
   "execution_count": 24,
   "id": "572f1158",
   "metadata": {
    "execution": {
     "iopub.execute_input": "2025-09-09T03:01:59.888182Z",
     "iopub.status.busy": "2025-09-09T03:01:59.887863Z",
     "iopub.status.idle": "2025-09-09T03:01:59.906243Z",
     "shell.execute_reply": "2025-09-09T03:01:59.905013Z"
    },
    "papermill": {
     "duration": 0.040291,
     "end_time": "2025-09-09T03:01:59.907925",
     "exception": false,
     "start_time": "2025-09-09T03:01:59.867634",
     "status": "completed"
    },
    "tags": []
   },
   "outputs": [
    {
     "name": "stdout",
     "output_type": "stream",
     "text": [
      "Data types:\n",
      " customerID           object\n",
      "gender               object\n",
      "SeniorCitizen         int64\n",
      "Partner              object\n",
      "Dependents           object\n",
      "tenure                int64\n",
      "PhoneService         object\n",
      "MultipleLines        object\n",
      "InternetService      object\n",
      "OnlineSecurity       object\n",
      "OnlineBackup         object\n",
      "DeviceProtection     object\n",
      "TechSupport          object\n",
      "StreamingTV          object\n",
      "StreamingMovies      object\n",
      "Contract             object\n",
      "PaperlessBilling     object\n",
      "PaymentMethod        object\n",
      "MonthlyCharges      float64\n",
      "TotalCharges        float64\n",
      "Churn                object\n",
      "dtype: object\n",
      "\n",
      "Unique values in object (categorical) columns:\n",
      "customerID: ['7590-VHVEG' '5575-GNVDE' '3668-QPYBK' '7795-CFOCW' '9237-HQITU'\n",
      " '9305-CDSKC' '1452-KIOVK' '6713-OKOMC' '7892-POOKP' '6388-TABGU'] ...\n",
      "gender: ['Female' 'Male'] ...\n",
      "Partner: ['Yes' 'No'] ...\n",
      "Dependents: ['No' 'Yes'] ...\n",
      "PhoneService: ['No' 'Yes'] ...\n",
      "MultipleLines: ['No phone service' 'No' 'Yes'] ...\n",
      "InternetService: ['DSL' 'Fiber optic' 'No'] ...\n",
      "OnlineSecurity: ['No' 'Yes' 'No internet service'] ...\n",
      "OnlineBackup: ['Yes' 'No' 'No internet service'] ...\n",
      "DeviceProtection: ['No' 'Yes' 'No internet service'] ...\n",
      "TechSupport: ['No' 'Yes' 'No internet service'] ...\n",
      "StreamingTV: ['No' 'Yes' 'No internet service'] ...\n",
      "StreamingMovies: ['No' 'Yes' 'No internet service'] ...\n",
      "Contract: ['Month-to-month' 'One year' 'Two year'] ...\n",
      "PaperlessBilling: ['Yes' 'No'] ...\n",
      "PaymentMethod: ['Electronic check' 'Mailed check' 'Bank transfer (automatic)'\n",
      " 'Credit card (automatic)'] ...\n",
      "Churn: ['No' 'Yes'] ...\n"
     ]
    }
   ],
   "source": [
    "print(\"Data types:\\n\", df.dtypes)\n",
    "print(\"\\nUnique values in object (categorical) columns:\")\n",
    "for col in df.select_dtypes(include=\"object\").columns:\n",
    "    print(f\"{col}: {df[col].unique()[:10]} ...\")\n"
   ]
  },
  {
   "cell_type": "code",
   "execution_count": 25,
   "id": "19608bed",
   "metadata": {
    "execution": {
     "iopub.execute_input": "2025-09-09T03:01:59.946643Z",
     "iopub.status.busy": "2025-09-09T03:01:59.946213Z",
     "iopub.status.idle": "2025-09-09T03:01:59.951817Z",
     "shell.execute_reply": "2025-09-09T03:01:59.950687Z"
    },
    "papermill": {
     "duration": 0.026592,
     "end_time": "2025-09-09T03:01:59.953452",
     "exception": false,
     "start_time": "2025-09-09T03:01:59.926860",
     "status": "completed"
    },
    "tags": []
   },
   "outputs": [
    {
     "name": "stdout",
     "output_type": "stream",
     "text": [
      "['customerID', 'gender', 'SeniorCitizen', 'Partner', 'Dependents', 'tenure', 'PhoneService', 'MultipleLines', 'InternetService', 'OnlineSecurity', 'OnlineBackup', 'DeviceProtection', 'TechSupport', 'StreamingTV', 'StreamingMovies', 'Contract', 'PaperlessBilling', 'PaymentMethod', 'MonthlyCharges', 'TotalCharges', 'Churn']\n"
     ]
    }
   ],
   "source": [
    "print(df.columns.tolist())\n"
   ]
  },
  {
   "cell_type": "code",
   "execution_count": 26,
   "id": "027a8daf",
   "metadata": {
    "execution": {
     "iopub.execute_input": "2025-09-09T03:01:59.991595Z",
     "iopub.status.busy": "2025-09-09T03:01:59.991215Z",
     "iopub.status.idle": "2025-09-09T03:02:00.106443Z",
     "shell.execute_reply": "2025-09-09T03:02:00.105298Z"
    },
    "papermill": {
     "duration": 0.136294,
     "end_time": "2025-09-09T03:02:00.108170",
     "exception": false,
     "start_time": "2025-09-09T03:01:59.971876",
     "status": "completed"
    },
    "tags": []
   },
   "outputs": [
    {
     "name": "stdout",
     "output_type": "stream",
     "text": [
      "Original shape: (7032, 21)\n",
      "After encoding: (7032, 7062)\n",
      "   SeniorCitizen  tenure  MonthlyCharges  TotalCharges  customerID_0003-MKNFE  \\\n",
      "0              0       1           29.85         29.85                  False   \n",
      "1              0      34           56.95       1889.50                  False   \n",
      "2              0       2           53.85        108.15                  False   \n",
      "3              0      45           42.30       1840.75                  False   \n",
      "4              0       2           70.70        151.65                  False   \n",
      "\n",
      "   customerID_0004-TLHLJ  customerID_0011-IGKFF  customerID_0013-EXCHZ  \\\n",
      "0                  False                  False                  False   \n",
      "1                  False                  False                  False   \n",
      "2                  False                  False                  False   \n",
      "3                  False                  False                  False   \n",
      "4                  False                  False                  False   \n",
      "\n",
      "   customerID_0013-MHZWF  customerID_0013-SMEOE  ...  StreamingTV_Yes  \\\n",
      "0                  False                  False  ...            False   \n",
      "1                  False                  False  ...            False   \n",
      "2                  False                  False  ...            False   \n",
      "3                  False                  False  ...            False   \n",
      "4                  False                  False  ...            False   \n",
      "\n",
      "   StreamingMovies_No internet service  StreamingMovies_Yes  \\\n",
      "0                                False                False   \n",
      "1                                False                False   \n",
      "2                                False                False   \n",
      "3                                False                False   \n",
      "4                                False                False   \n",
      "\n",
      "   Contract_One year  Contract_Two year  PaperlessBilling_Yes  \\\n",
      "0              False              False                  True   \n",
      "1               True              False                 False   \n",
      "2              False              False                  True   \n",
      "3               True              False                 False   \n",
      "4              False              False                  True   \n",
      "\n",
      "   PaymentMethod_Credit card (automatic)  PaymentMethod_Electronic check  \\\n",
      "0                                  False                            True   \n",
      "1                                  False                           False   \n",
      "2                                  False                           False   \n",
      "3                                  False                           False   \n",
      "4                                  False                            True   \n",
      "\n",
      "   PaymentMethod_Mailed check  Churn_Yes  \n",
      "0                       False      False  \n",
      "1                        True      False  \n",
      "2                        True       True  \n",
      "3                       False      False  \n",
      "4                       False       True  \n",
      "\n",
      "[5 rows x 7062 columns]\n"
     ]
    }
   ],
   "source": [
    "import warnings\n",
    "warnings.filterwarnings(\"ignore\", category=RuntimeWarning)\n",
    "# One-hot encode categorical columns\n",
    "df_encoded = pd.get_dummies(df, drop_first=True)\n",
    "\n",
    "print(\"Original shape:\", df.shape)\n",
    "print(\"After encoding:\", df_encoded.shape)\n",
    "print(df_encoded.head())\n"
   ]
  },
  {
   "cell_type": "code",
   "execution_count": 27,
   "id": "5e0f6bc8",
   "metadata": {
    "execution": {
     "iopub.execute_input": "2025-09-09T03:02:00.146546Z",
     "iopub.status.busy": "2025-09-09T03:02:00.146159Z",
     "iopub.status.idle": "2025-09-09T03:02:00.152794Z",
     "shell.execute_reply": "2025-09-09T03:02:00.151755Z"
    },
    "papermill": {
     "duration": 0.027714,
     "end_time": "2025-09-09T03:02:00.154400",
     "exception": false,
     "start_time": "2025-09-09T03:02:00.126686",
     "status": "completed"
    },
    "tags": []
   },
   "outputs": [
    {
     "name": "stdout",
     "output_type": "stream",
     "text": [
      "Churn\n",
      "No     5163\n",
      "Yes    1869\n",
      "Name: count, dtype: int64\n"
     ]
    }
   ],
   "source": [
    "print(df[\"Churn\"].value_counts(dropna=False))\n"
   ]
  },
  {
   "cell_type": "code",
   "execution_count": 28,
   "id": "b3ef986c",
   "metadata": {
    "execution": {
     "iopub.execute_input": "2025-09-09T03:02:00.193275Z",
     "iopub.status.busy": "2025-09-09T03:02:00.192897Z",
     "iopub.status.idle": "2025-09-09T03:02:00.200118Z",
     "shell.execute_reply": "2025-09-09T03:02:00.199191Z"
    },
    "papermill": {
     "duration": 0.028597,
     "end_time": "2025-09-09T03:02:00.201614",
     "exception": false,
     "start_time": "2025-09-09T03:02:00.173017",
     "status": "completed"
    },
    "tags": []
   },
   "outputs": [
    {
     "data": {
      "text/plain": [
       "['Churn_Yes']"
      ]
     },
     "execution_count": 28,
     "metadata": {},
     "output_type": "execute_result"
    }
   ],
   "source": [
    "[col for col in df_encoded.columns if \"Churn\" in col]\n"
   ]
  },
  {
   "cell_type": "code",
   "execution_count": 29,
   "id": "823533d0",
   "metadata": {
    "execution": {
     "iopub.execute_input": "2025-09-09T03:02:00.241195Z",
     "iopub.status.busy": "2025-09-09T03:02:00.240871Z",
     "iopub.status.idle": "2025-09-09T03:02:00.247860Z",
     "shell.execute_reply": "2025-09-09T03:02:00.246759Z"
    },
    "papermill": {
     "duration": 0.029223,
     "end_time": "2025-09-09T03:02:00.249365",
     "exception": false,
     "start_time": "2025-09-09T03:02:00.220142",
     "status": "completed"
    },
    "tags": []
   },
   "outputs": [
    {
     "name": "stdout",
     "output_type": "stream",
     "text": [
      "['No' 'Yes']\n",
      "0\n",
      "(7032, 21)\n"
     ]
    }
   ],
   "source": [
    "print(df[\"Churn\"].unique())\n",
    "print(df[\"Churn\"].isna().sum())\n",
    "print(df.shape)\n"
   ]
  },
  {
   "cell_type": "code",
   "execution_count": 30,
   "id": "ef117be6",
   "metadata": {
    "execution": {
     "iopub.execute_input": "2025-09-09T03:02:00.288702Z",
     "iopub.status.busy": "2025-09-09T03:02:00.288147Z",
     "iopub.status.idle": "2025-09-09T03:02:00.302165Z",
     "shell.execute_reply": "2025-09-09T03:02:00.301138Z"
    },
    "papermill": {
     "duration": 0.035709,
     "end_time": "2025-09-09T03:02:00.303801",
     "exception": false,
     "start_time": "2025-09-09T03:02:00.268092",
     "status": "completed"
    },
    "tags": []
   },
   "outputs": [
    {
     "name": "stdout",
     "output_type": "stream",
     "text": [
      "['customerID', 'gender', 'SeniorCitizen', 'Partner', 'Dependents', 'tenure', 'PhoneService', 'MultipleLines', 'InternetService', 'OnlineSecurity', 'OnlineBackup', 'DeviceProtection', 'TechSupport', 'StreamingTV', 'StreamingMovies', 'Contract', 'PaperlessBilling', 'PaymentMethod', 'MonthlyCharges', 'TotalCharges', 'Churn']\n",
      "   customerID  gender  SeniorCitizen Partner Dependents  tenure PhoneService  \\\n",
      "0  7590-VHVEG  Female              0     Yes         No       1           No   \n",
      "1  5575-GNVDE    Male              0      No         No      34          Yes   \n",
      "2  3668-QPYBK    Male              0      No         No       2          Yes   \n",
      "3  7795-CFOCW    Male              0      No         No      45           No   \n",
      "4  9237-HQITU  Female              0      No         No       2          Yes   \n",
      "\n",
      "      MultipleLines InternetService OnlineSecurity  ... DeviceProtection  \\\n",
      "0  No phone service             DSL             No  ...               No   \n",
      "1                No             DSL            Yes  ...              Yes   \n",
      "2                No             DSL            Yes  ...               No   \n",
      "3  No phone service             DSL            Yes  ...              Yes   \n",
      "4                No     Fiber optic             No  ...               No   \n",
      "\n",
      "  TechSupport StreamingTV StreamingMovies        Contract PaperlessBilling  \\\n",
      "0          No          No              No  Month-to-month              Yes   \n",
      "1          No          No              No        One year               No   \n",
      "2          No          No              No  Month-to-month              Yes   \n",
      "3         Yes          No              No        One year               No   \n",
      "4          No          No              No  Month-to-month              Yes   \n",
      "\n",
      "               PaymentMethod MonthlyCharges  TotalCharges  Churn  \n",
      "0           Electronic check          29.85         29.85     No  \n",
      "1               Mailed check          56.95       1889.50     No  \n",
      "2               Mailed check          53.85        108.15    Yes  \n",
      "3  Bank transfer (automatic)          42.30       1840.75     No  \n",
      "4           Electronic check          70.70        151.65    Yes  \n",
      "\n",
      "[5 rows x 21 columns]\n"
     ]
    }
   ],
   "source": [
    "print(df.columns.tolist())\n",
    "print(df.head())\n"
   ]
  },
  {
   "cell_type": "code",
   "execution_count": 31,
   "id": "e8894bb8",
   "metadata": {
    "execution": {
     "iopub.execute_input": "2025-09-09T03:02:00.343624Z",
     "iopub.status.busy": "2025-09-09T03:02:00.343251Z",
     "iopub.status.idle": "2025-09-09T03:02:00.483154Z",
     "shell.execute_reply": "2025-09-09T03:02:00.481828Z"
    },
    "papermill": {
     "duration": 0.162016,
     "end_time": "2025-09-09T03:02:00.485003",
     "exception": false,
     "start_time": "2025-09-09T03:02:00.322987",
     "status": "completed"
    },
    "tags": []
   },
   "outputs": [
    {
     "name": "stdout",
     "output_type": "stream",
     "text": [
      "churn_model.pkl  encoder.pkl  __notebook__.ipynb  training_columns.pkl\r\n"
     ]
    }
   ],
   "source": [
    "!ls\n"
   ]
  },
  {
   "cell_type": "code",
   "execution_count": 32,
   "id": "5643ebde",
   "metadata": {
    "execution": {
     "iopub.execute_input": "2025-09-09T03:02:00.525180Z",
     "iopub.status.busy": "2025-09-09T03:02:00.524805Z",
     "iopub.status.idle": "2025-09-09T03:02:00.531753Z",
     "shell.execute_reply": "2025-09-09T03:02:00.530498Z"
    },
    "papermill": {
     "duration": 0.029322,
     "end_time": "2025-09-09T03:02:00.533264",
     "exception": false,
     "start_time": "2025-09-09T03:02:00.503942",
     "status": "completed"
    },
    "tags": []
   },
   "outputs": [
    {
     "name": "stdout",
     "output_type": "stream",
     "text": [
      "churn_model.pkl: 46271\n",
      "encoder.pkl: 77644\n",
      "training_columns.pkl: 136632\n"
     ]
    }
   ],
   "source": [
    "import os\n",
    "\n",
    "print(\"churn_model.pkl:\", os.path.getsize(\"churn_model.pkl\"))\n",
    "print(\"encoder.pkl:\", os.path.getsize(\"encoder.pkl\"))\n",
    "print(\"training_columns.pkl:\", os.path.getsize(\"training_columns.pkl\"))\n"
   ]
  },
  {
   "cell_type": "code",
   "execution_count": 33,
   "id": "d6984ef9",
   "metadata": {
    "execution": {
     "iopub.execute_input": "2025-09-09T03:02:00.572987Z",
     "iopub.status.busy": "2025-09-09T03:02:00.572677Z",
     "iopub.status.idle": "2025-09-09T03:02:00.578175Z",
     "shell.execute_reply": "2025-09-09T03:02:00.577033Z"
    },
    "papermill": {
     "duration": 0.027405,
     "end_time": "2025-09-09T03:02:00.579855",
     "exception": false,
     "start_time": "2025-09-09T03:02:00.552450",
     "status": "completed"
    },
    "tags": []
   },
   "outputs": [
    {
     "name": "stdout",
     "output_type": "stream",
     "text": [
      "['churn_model.pkl', '__notebook__.ipynb', 'training_columns.pkl', 'encoder.pkl']\n"
     ]
    }
   ],
   "source": [
    "import os\n",
    "\n",
    "# List files in the current working directory\n",
    "print(os.listdir(\".\"))\n"
   ]
  },
  {
   "cell_type": "code",
   "execution_count": 34,
   "id": "723b44fc",
   "metadata": {
    "execution": {
     "iopub.execute_input": "2025-09-09T03:02:00.621568Z",
     "iopub.status.busy": "2025-09-09T03:02:00.621210Z",
     "iopub.status.idle": "2025-09-09T03:02:00.670718Z",
     "shell.execute_reply": "2025-09-09T03:02:00.669669Z"
    },
    "papermill": {
     "duration": 0.071497,
     "end_time": "2025-09-09T03:02:00.672360",
     "exception": false,
     "start_time": "2025-09-09T03:02:00.600863",
     "status": "completed"
    },
    "tags": []
   },
   "outputs": [
    {
     "name": "stdout",
     "output_type": "stream",
     "text": [
      "   customerID  gender  SeniorCitizen Partner Dependents  tenure PhoneService  \\\n",
      "0  7590-VHVEG  Female              0     Yes         No       1           No   \n",
      "1  5575-GNVDE    Male              0      No         No      34          Yes   \n",
      "2  3668-QPYBK    Male              0      No         No       2          Yes   \n",
      "3  7795-CFOCW    Male              0      No         No      45           No   \n",
      "4  9237-HQITU  Female              0      No         No       2          Yes   \n",
      "\n",
      "      MultipleLines InternetService OnlineSecurity  ... DeviceProtection  \\\n",
      "0  No phone service             DSL             No  ...               No   \n",
      "1                No             DSL            Yes  ...              Yes   \n",
      "2                No             DSL            Yes  ...               No   \n",
      "3  No phone service             DSL            Yes  ...              Yes   \n",
      "4                No     Fiber optic             No  ...               No   \n",
      "\n",
      "  TechSupport StreamingTV StreamingMovies        Contract PaperlessBilling  \\\n",
      "0          No          No              No  Month-to-month              Yes   \n",
      "1          No          No              No        One year               No   \n",
      "2          No          No              No  Month-to-month              Yes   \n",
      "3         Yes          No              No        One year               No   \n",
      "4          No          No              No  Month-to-month              Yes   \n",
      "\n",
      "               PaymentMethod MonthlyCharges  TotalCharges Churn  \n",
      "0           Electronic check          29.85         29.85    No  \n",
      "1               Mailed check          56.95        1889.5    No  \n",
      "2               Mailed check          53.85        108.15   Yes  \n",
      "3  Bank transfer (automatic)          42.30       1840.75    No  \n",
      "4           Electronic check          70.70        151.65   Yes  \n",
      "\n",
      "[5 rows x 21 columns]\n"
     ]
    }
   ],
   "source": [
    "import pandas as pd\n",
    "\n",
    "# Load dataset directly from Kaggle input folder\n",
    "df = pd.read_csv(\"/kaggle/input/telco-customer-churn/WA_Fn-UseC_-Telco-Customer-Churn.csv\")\n",
    "print(df.head())\n"
   ]
  },
  {
   "cell_type": "code",
   "execution_count": 35,
   "id": "cceea03d",
   "metadata": {
    "execution": {
     "iopub.execute_input": "2025-09-09T03:02:00.711911Z",
     "iopub.status.busy": "2025-09-09T03:02:00.711552Z",
     "iopub.status.idle": "2025-09-09T03:02:00.717071Z",
     "shell.execute_reply": "2025-09-09T03:02:00.716020Z"
    },
    "papermill": {
     "duration": 0.027437,
     "end_time": "2025-09-09T03:02:00.718814",
     "exception": false,
     "start_time": "2025-09-09T03:02:00.691377",
     "status": "completed"
    },
    "tags": []
   },
   "outputs": [
    {
     "name": "stdout",
     "output_type": "stream",
     "text": [
      "(7043, 21)\n"
     ]
    }
   ],
   "source": [
    "print(df.shape)\n"
   ]
  },
  {
   "cell_type": "code",
   "execution_count": 36,
   "id": "8d804f2c",
   "metadata": {
    "execution": {
     "iopub.execute_input": "2025-09-09T03:02:00.758987Z",
     "iopub.status.busy": "2025-09-09T03:02:00.758647Z",
     "iopub.status.idle": "2025-09-09T03:02:00.767550Z",
     "shell.execute_reply": "2025-09-09T03:02:00.766342Z"
    },
    "papermill": {
     "duration": 0.030696,
     "end_time": "2025-09-09T03:02:00.768962",
     "exception": false,
     "start_time": "2025-09-09T03:02:00.738266",
     "status": "completed"
    },
    "tags": []
   },
   "outputs": [
    {
     "name": "stdout",
     "output_type": "stream",
     "text": [
      "Features shape: (7043, 20)\n",
      "Target shape: (7043,)\n"
     ]
    }
   ],
   "source": [
    "# Features (independent variables)\n",
    "X = df.drop(\"Churn\", axis=1)\n",
    "\n",
    "# Target (dependent variable)\n",
    "y = df[\"Churn\"]\n",
    "\n",
    "print(\"Features shape:\", X.shape)  # should be (7043, 19)\n",
    "print(\"Target shape:\", y.shape)    # should be (7043,)\n"
   ]
  },
  {
   "cell_type": "code",
   "execution_count": 37,
   "id": "90c96760",
   "metadata": {
    "execution": {
     "iopub.execute_input": "2025-09-09T03:02:00.809513Z",
     "iopub.status.busy": "2025-09-09T03:02:00.809155Z",
     "iopub.status.idle": "2025-09-09T03:02:00.826944Z",
     "shell.execute_reply": "2025-09-09T03:02:00.825861Z"
    },
    "papermill": {
     "duration": 0.040308,
     "end_time": "2025-09-09T03:02:00.828517",
     "exception": false,
     "start_time": "2025-09-09T03:02:00.788209",
     "status": "completed"
    },
    "tags": []
   },
   "outputs": [
    {
     "name": "stdout",
     "output_type": "stream",
     "text": [
      "Train set shape: (5634, 20) (5634,)\n",
      "Test set shape: (1409, 20) (1409,)\n"
     ]
    }
   ],
   "source": [
    "from sklearn.model_selection import train_test_split\n",
    "\n",
    "# Split dataset (80% train, 20% test)\n",
    "X_train, X_test, y_train, y_test = train_test_split(\n",
    "    X, y,\n",
    "    test_size=0.2,       # 20% data for testing\n",
    "    random_state=42,     # ensures reproducibility\n",
    "    stratify=y           # keeps Yes/No ratio same in train & test\n",
    ")\n",
    "\n",
    "print(\"Train set shape:\", X_train.shape, y_train.shape)\n",
    "print(\"Test set shape:\", X_test.shape, y_test.shape)\n"
   ]
  },
  {
   "cell_type": "code",
   "execution_count": 38,
   "id": "ef4eaf50",
   "metadata": {
    "execution": {
     "iopub.execute_input": "2025-09-09T03:02:00.868417Z",
     "iopub.status.busy": "2025-09-09T03:02:00.867988Z",
     "iopub.status.idle": "2025-09-09T03:02:00.968664Z",
     "shell.execute_reply": "2025-09-09T03:02:00.967672Z"
    },
    "papermill": {
     "duration": 0.122538,
     "end_time": "2025-09-09T03:02:00.970230",
     "exception": false,
     "start_time": "2025-09-09T03:02:00.847692",
     "status": "completed"
    },
    "tags": []
   },
   "outputs": [
    {
     "name": "stdout",
     "output_type": "stream",
     "text": [
      "Encoded train shape: (5634, 10954)\n",
      "Encoded test shape: (1409, 10954)\n"
     ]
    }
   ],
   "source": [
    "from sklearn.preprocessing import OneHotEncoder\n",
    "from sklearn.compose import ColumnTransformer\n",
    "\n",
    "# Identify categorical columns\n",
    "categorical_cols = X.select_dtypes(include=['object']).columns\n",
    "\n",
    "# Apply OneHotEncoder to categorical columns, leave numeric as is\n",
    "ct = ColumnTransformer(\n",
    "    transformers=[\n",
    "        ('encoder', OneHotEncoder(handle_unknown='ignore'), categorical_cols)\n",
    "    ],\n",
    "    remainder='passthrough'   # keep numeric columns as they are\n",
    ")\n",
    "\n",
    "# Fit encoder on train data, transform train & test\n",
    "X_train_encoded = ct.fit_transform(X_train)\n",
    "X_test_encoded = ct.transform(X_test)\n",
    "\n",
    "print(\"Encoded train shape:\", X_train_encoded.shape)\n",
    "print(\"Encoded test shape:\", X_test_encoded.shape)\n"
   ]
  },
  {
   "cell_type": "code",
   "execution_count": 39,
   "id": "c573fa0e",
   "metadata": {
    "execution": {
     "iopub.execute_input": "2025-09-09T03:02:01.010230Z",
     "iopub.status.busy": "2025-09-09T03:02:01.009945Z",
     "iopub.status.idle": "2025-09-09T03:02:10.122833Z",
     "shell.execute_reply": "2025-09-09T03:02:10.122023Z"
    },
    "papermill": {
     "duration": 9.135768,
     "end_time": "2025-09-09T03:02:10.125274",
     "exception": false,
     "start_time": "2025-09-09T03:02:00.989506",
     "status": "completed"
    },
    "tags": []
   },
   "outputs": [
    {
     "name": "stdout",
     "output_type": "stream",
     "text": [
      "Accuracy: 0.7601135557132718\n",
      "\n",
      "Confusion Matrix:\n",
      " [[802 233]\n",
      " [105 269]]\n",
      "\n",
      "Classification Report:\n",
      "               precision    recall  f1-score   support\n",
      "\n",
      "          No       0.88      0.77      0.83      1035\n",
      "         Yes       0.54      0.72      0.61       374\n",
      "\n",
      "    accuracy                           0.76      1409\n",
      "   macro avg       0.71      0.75      0.72      1409\n",
      "weighted avg       0.79      0.76      0.77      1409\n",
      "\n"
     ]
    }
   ],
   "source": [
    "from sklearn.linear_model import LogisticRegression\n",
    "from sklearn.metrics import accuracy_score, confusion_matrix, classification_report\n",
    "\n",
    "# Initialize model\n",
    "model = LogisticRegression(max_iter=1000, class_weight='balanced', random_state=42)\n",
    "\n",
    "# Train (fit) the model on encoded training data\n",
    "model.fit(X_train_encoded, y_train)\n",
    "\n",
    "# Predict on test data\n",
    "y_pred = model.predict(X_test_encoded)\n",
    "\n",
    "# Evaluate\n",
    "print(\"Accuracy:\", accuracy_score(y_test, y_pred))\n",
    "print(\"\\nConfusion Matrix:\\n\", confusion_matrix(y_test, y_pred))\n",
    "print(\"\\nClassification Report:\\n\", classification_report(y_test, y_pred))\n"
   ]
  },
  {
   "cell_type": "code",
   "execution_count": 40,
   "id": "2469d846",
   "metadata": {
    "execution": {
     "iopub.execute_input": "2025-09-09T03:02:10.173557Z",
     "iopub.status.busy": "2025-09-09T03:02:10.173174Z",
     "iopub.status.idle": "2025-09-09T03:02:10.179708Z",
     "shell.execute_reply": "2025-09-09T03:02:10.178447Z"
    },
    "papermill": {
     "duration": 0.028782,
     "end_time": "2025-09-09T03:02:10.181276",
     "exception": false,
     "start_time": "2025-09-09T03:02:10.152494",
     "status": "completed"
    },
    "tags": []
   },
   "outputs": [
    {
     "name": "stdout",
     "output_type": "stream",
     "text": [
      "First 10 churn probabilities: [0.06320434 0.84485929 0.10641817 0.59698918 0.04394606 0.78724461\n",
      " 0.65255705 0.22096494 0.00873711 0.57425477]\n"
     ]
    }
   ],
   "source": [
    "# Get churn probabilities (only for \"Yes\" class)\n",
    "y_proba = model.predict_proba(X_test_encoded)[:, 1]\n",
    "\n",
    "print(\"First 10 churn probabilities:\", y_proba[:10])\n"
   ]
  },
  {
   "cell_type": "code",
   "execution_count": 41,
   "id": "59c7207c",
   "metadata": {
    "execution": {
     "iopub.execute_input": "2025-09-09T03:02:10.221721Z",
     "iopub.status.busy": "2025-09-09T03:02:10.221308Z",
     "iopub.status.idle": "2025-09-09T03:02:10.477639Z",
     "shell.execute_reply": "2025-09-09T03:02:10.476549Z"
    },
    "papermill": {
     "duration": 0.278437,
     "end_time": "2025-09-09T03:02:10.479160",
     "exception": false,
     "start_time": "2025-09-09T03:02:10.200723",
     "status": "completed"
    },
    "tags": []
   },
   "outputs": [
    {
     "name": "stdout",
     "output_type": "stream",
     "text": [
      "ROC-AUC Score: 0.8400191170012142\n"
     ]
    },
    {
     "data": {
      "image/png": "[encoded data removed]",
      "text/plain": [
       "<Figure size 640x480 with 1 Axes>"
      ]
     },
     "metadata": {},
     "output_type": "display_data"
    }
   ],
   "source": [
    "import numpy as np\n",
    "\n",
    "# Convert Yes/No to 1/0\n",
    "y_test_binary = np.where(y_test == \"Yes\", 1, 0)\n",
    "\n",
    "# Now compute ROC\n",
    "from sklearn.metrics import roc_auc_score, roc_curve\n",
    "import matplotlib.pyplot as plt\n",
    "\n",
    "# AUC score\n",
    "auc = roc_auc_score(y_test_binary, y_proba)\n",
    "print(\"ROC-AUC Score:\", auc)\n",
    "\n",
    "# Plot ROC curve\n",
    "fpr, tpr, thresholds = roc_curve(y_test_binary, y_proba)\n",
    "plt.plot(fpr, tpr, label=f\"AUC = {auc:.2f}\")\n",
    "plt.plot([0,1],[0,1],'--', color='gray')\n",
    "plt.xlabel(\"False Positive Rate\")\n",
    "plt.ylabel(\"True Positive Rate\")\n",
    "plt.title(\"ROC Curve\")\n",
    "plt.legend()\n",
    "plt.show()\n"
   ]
  },
  {
   "cell_type": "code",
   "execution_count": 42,
   "id": "e1ff24dd",
   "metadata": {
    "execution": {
     "iopub.execute_input": "2025-09-09T03:02:10.522124Z",
     "iopub.status.busy": "2025-09-09T03:02:10.521836Z",
     "iopub.status.idle": "2025-09-09T03:02:10.556999Z",
     "shell.execute_reply": "2025-09-09T03:02:10.555551Z"
    },
    "papermill": {
     "duration": 0.058942,
     "end_time": "2025-09-09T03:02:10.558918",
     "exception": false,
     "start_time": "2025-09-09T03:02:10.499976",
     "status": "completed"
    },
    "tags": []
   },
   "outputs": [
    {
     "name": "stdout",
     "output_type": "stream",
     "text": [
      "                             Feature  Importance\n",
      "5756   encoder__TotalCharges_1052.35    1.524838\n",
      "325   encoder__customerID_0607-DAAHE    1.524838\n",
      "3588  encoder__customerID_6323-AYBRX    1.500814\n",
      "5834    encoder__TotalCharges_1099.6    1.500814\n",
      "1968  encoder__customerID_3512-IZIKN    1.488232\n",
      "8912   encoder__TotalCharges_4759.75    1.488232\n",
      "4898  encoder__customerID_8631-NBHFZ    1.438320\n",
      "9153    encoder__TotalCharges_5154.6    1.438320\n",
      "8725      encoder__TotalCharges_4481    1.378056\n",
      "4182  encoder__customerID_7359-SSBJK    1.378056\n",
      "6952     encoder__TotalCharges_20.15    1.372935\n",
      "3707  encoder__customerID_6532-YLWSI    1.368865\n",
      "5712    encoder__TotalCharges_1021.8    1.368865\n",
      "6861      encoder__TotalCharges_19.9    1.363667\n",
      "3106  encoder__customerID_5458-CQJTA    1.363505\n"
     ]
    }
   ],
   "source": [
    "import pandas as pd\n",
    "\n",
    "# Get feature names after OneHotEncoding\n",
    "feature_names = ct.get_feature_names_out()\n",
    "\n",
    "# Get model coefficients\n",
    "importance = model.coef_[0]\n",
    "\n",
    "# Put into DataFrame\n",
    "feat_imp = pd.DataFrame({\n",
    "    \"Feature\": feature_names,\n",
    "    \"Importance\": importance\n",
    "}).sort_values(by=\"Importance\", key=abs, ascending=False)\n",
    "\n",
    "print(feat_imp.head(15))  # Top 15 features\n"
   ]
  },
  {
   "cell_type": "code",
   "execution_count": 43,
   "id": "03d17f3f",
   "metadata": {
    "execution": {
     "iopub.execute_input": "2025-09-09T03:02:10.601520Z",
     "iopub.status.busy": "2025-09-09T03:02:10.601165Z",
     "iopub.status.idle": "2025-09-09T03:02:10.956771Z",
     "shell.execute_reply": "2025-09-09T03:02:10.955857Z"
    },
    "papermill": {
     "duration": 0.380419,
     "end_time": "2025-09-09T03:02:10.959899",
     "exception": false,
     "start_time": "2025-09-09T03:02:10.579480",
     "status": "completed"
    },
    "tags": []
   },
   "outputs": [
    {
     "data": {
      "image/png": "[encoded data removed]",
      "text/plain": [
       "<Figure size 1000x600 with 1 Axes>"
      ]
     },
     "metadata": {},
     "output_type": "display_data"
    }
   ],
   "source": [
    "import matplotlib.pyplot as plt\n",
    "\n",
    "# Take top 15 important features\n",
    "top_features = feat_imp.head(15)\n",
    "\n",
    "# Plot feature importance\n",
    "plt.figure(figsize=(10, 6))\n",
    "plt.barh(top_features[\"Feature\"], top_features[\"Importance\"])\n",
    "plt.xlabel(\"Coefficient Importance\")\n",
    "plt.ylabel(\"Feature\")\n",
    "plt.title(\"Top 15 Features Influencing Customer Churn\")\n",
    "plt.gca().invert_yaxis()  # biggest importance at the top\n",
    "plt.show()\n"
   ]
  },
  {
   "cell_type": "code",
   "execution_count": 44,
   "id": "7bf01f02",
   "metadata": {
    "execution": {
     "iopub.execute_input": "2025-09-09T03:02:11.010589Z",
     "iopub.status.busy": "2025-09-09T03:02:11.010227Z",
     "iopub.status.idle": "2025-09-09T03:02:11.038096Z",
     "shell.execute_reply": "2025-09-09T03:02:11.036901Z"
    },
    "papermill": {
     "duration": 0.053327,
     "end_time": "2025-09-09T03:02:11.039883",
     "exception": false,
     "start_time": "2025-09-09T03:02:10.986556",
     "status": "completed"
    },
    "tags": []
   },
   "outputs": [
    {
     "name": "stdout",
     "output_type": "stream",
     "text": [
      "Predicted class: No\n",
      "Churn probability: 0.06320434071366936\n"
     ]
    }
   ],
   "source": [
    "# Example: take one customer from the test set\n",
    "sample = X_test.iloc[0:1]   # first row of test data\n",
    "sample_encoded = ct.transform(sample)  # apply same encoding as training\n",
    "\n",
    "# Predict churn\n",
    "prediction = model.predict(sample_encoded)\n",
    "probability = model.predict_proba(sample_encoded)[0][1]  # probability of churn\n",
    "\n",
    "print(\"Predicted class:\", prediction[0])  \n",
    "print(\"Churn probability:\", probability)\n"
   ]
  },
  {
   "cell_type": "code",
   "execution_count": 45,
   "id": "7be7c29d",
   "metadata": {
    "execution": {
     "iopub.execute_input": "2025-09-09T03:02:11.084931Z",
     "iopub.status.busy": "2025-09-09T03:02:11.084613Z",
     "iopub.status.idle": "2025-09-09T03:02:11.105146Z",
     "shell.execute_reply": "2025-09-09T03:02:11.104091Z"
    },
    "papermill": {
     "duration": 0.044972,
     "end_time": "2025-09-09T03:02:11.106683",
     "exception": false,
     "start_time": "2025-09-09T03:02:11.061711",
     "status": "completed"
    },
    "tags": []
   },
   "outputs": [
    {
     "name": "stdout",
     "output_type": "stream",
     "text": [
      "      CustomerID Actual Predicted  Churn_Probability\n",
      "437          437     No        No           0.063204\n",
      "2280        2280     No       Yes           0.844859\n",
      "2235        2235     No        No           0.106418\n",
      "4460        4460     No       Yes           0.596989\n",
      "3761        3761     No        No           0.043946\n",
      "5748        5748     No       Yes           0.787245\n",
      "3568        3568     No       Yes           0.652557\n",
      "2976        2976     No        No           0.220965\n",
      "5928        5928     No        No           0.008737\n",
      "1639        1639    Yes       Yes           0.574255\n",
      "✅ Results saved to churn_predictions.csv\n"
     ]
    }
   ],
   "source": [
    "import pandas as pd\n",
    "\n",
    "# Predict for all test data\n",
    "y_pred = model.predict(X_test_encoded)\n",
    "y_proba = model.predict_proba(X_test_encoded)[:, 1]  # churn probability\n",
    "\n",
    "# Combine results in a DataFrame\n",
    "results = pd.DataFrame({\n",
    "    \"CustomerID\": X_test.index,   # customer IDs\n",
    "    \"Actual\": y_test,\n",
    "    \"Predicted\": y_pred,\n",
    "    \"Churn_Probability\": y_proba\n",
    "})\n",
    "\n",
    "print(results.head(10))  # show first 10 results\n",
    "\n",
    "# Save to CSV\n",
    "results.to_csv(\"churn_predictions.csv\", index=False)\n",
    "print(\"✅ Results saved to churn_predictions.csv\")\n"
   ]
  },
  {
   "cell_type": "code",
   "execution_count": 46,
   "id": "5893f4bf",
   "metadata": {
    "execution": {
     "iopub.execute_input": "2025-09-09T03:02:11.153711Z",
     "iopub.status.busy": "2025-09-09T03:02:11.153366Z",
     "iopub.status.idle": "2025-09-09T03:02:11.164762Z",
     "shell.execute_reply": "2025-09-09T03:02:11.163620Z"
    },
    "papermill": {
     "duration": 0.036652,
     "end_time": "2025-09-09T03:02:11.166319",
     "exception": false,
     "start_time": "2025-09-09T03:02:11.129667",
     "status": "completed"
    },
    "tags": []
   },
   "outputs": [
    {
     "name": "stdout",
     "output_type": "stream",
     "text": [
      "High risk customers (probability > 70%):\n",
      "      CustomerID Actual Predicted  Churn_Probability\n",
      "2280        2280     No       Yes           0.844859\n",
      "5748        5748     No       Yes           0.787245\n",
      "3524        3524    Yes       Yes           0.778716\n",
      "2136        2136     No       Yes           0.801163\n",
      "6529        6529    Yes       Yes           0.854053\n",
      "761          761    Yes       Yes           0.761667\n",
      "6125        6125    Yes       Yes           0.846674\n",
      "5547        5547    Yes       Yes           0.896431\n",
      "346          346    Yes       Yes           0.897880\n",
      "6633        6633    Yes       Yes           0.876220\n",
      "✅ High-risk customers saved to high_risk_customers.csv\n"
     ]
    }
   ],
   "source": [
    "# Filter customers with churn probability > 0.7 (70%)\n",
    "high_risk = results[results[\"Churn_Probability\"] > 0.7]\n",
    "\n",
    "print(\"High risk customers (probability > 70%):\")\n",
    "print(high_risk.head(10))  # show top 10 high risk customers\n",
    "\n",
    "# Save high-risk list\n",
    "high_risk.to_csv(\"high_risk_customers.csv\", index=False)\n",
    "print(\"✅ High-risk customers saved to high_risk_customers.csv\")\n"
   ]
  },
  {
   "cell_type": "code",
   "execution_count": 47,
   "id": "af7e18a6",
   "metadata": {
    "execution": {
     "iopub.execute_input": "2025-09-09T03:02:11.212523Z",
     "iopub.status.busy": "2025-09-09T03:02:11.211781Z",
     "iopub.status.idle": "2025-09-09T03:02:11.488873Z",
     "shell.execute_reply": "2025-09-09T03:02:11.487859Z"
    },
    "papermill": {
     "duration": 0.301733,
     "end_time": "2025-09-09T03:02:11.490410",
     "exception": false,
     "start_time": "2025-09-09T03:02:11.188677",
     "status": "completed"
    },
    "tags": []
   },
   "outputs": [
    {
     "data": {
      "image/png": "[encoded data removed]",
      "text/plain": [
       "<Figure size 800x500 with 1 Axes>"
      ]
     },
     "metadata": {},
     "output_type": "display_data"
    }
   ],
   "source": [
    "import matplotlib.pyplot as plt\n",
    "\n",
    "plt.figure(figsize=(8,5))\n",
    "plt.hist(results[\"Churn_Probability\"], bins=20, color=\"skyblue\", edgecolor=\"black\")\n",
    "plt.axvline(0.7, color=\"red\", linestyle=\"--\", label=\"High Risk Threshold (0.7)\")\n",
    "plt.xlabel(\"Churn Probability\")\n",
    "plt.ylabel(\"Number of Customers\")\n",
    "plt.title(\"Churn Probability Distribution\")\n",
    "plt.legend()\n",
    "plt.show()\n"
   ]
  },
  {
   "cell_type": "code",
   "execution_count": 48,
   "id": "a17ee468",
   "metadata": {
    "execution": {
     "iopub.execute_input": "2025-09-09T03:02:11.539809Z",
     "iopub.status.busy": "2025-09-09T03:02:11.538742Z",
     "iopub.status.idle": "2025-09-09T03:02:11.699316Z",
     "shell.execute_reply": "2025-09-09T03:02:11.698389Z"
    },
    "papermill": {
     "duration": 0.186537,
     "end_time": "2025-09-09T03:02:11.700877",
     "exception": false,
     "start_time": "2025-09-09T03:02:11.514340",
     "status": "completed"
    },
    "tags": []
   },
   "outputs": [
    {
     "data": {
      "image/png": "[encoded data removed]",
      "text/plain": [
       "<Figure size 600x500 with 1 Axes>"
      ]
     },
     "metadata": {},
     "output_type": "display_data"
    }
   ],
   "source": [
    "import seaborn as sns\n",
    "\n",
    "plt.figure(figsize=(6,5))\n",
    "sns.boxplot(x=results[\"Actual\"], y=results[\"Churn_Probability\"], palette=\"coolwarm\")\n",
    "plt.title(\"Churn Probability Distribution by Actual Class\")\n",
    "plt.show()\n"
   ]
  },
  {
   "cell_type": "code",
   "execution_count": 49,
   "id": "3674f710",
   "metadata": {
    "execution": {
     "iopub.execute_input": "2025-09-09T03:02:11.751656Z",
     "iopub.status.busy": "2025-09-09T03:02:11.751302Z",
     "iopub.status.idle": "2025-09-09T03:02:11.913191Z",
     "shell.execute_reply": "2025-09-09T03:02:11.912199Z"
    },
    "papermill": {
     "duration": 0.189465,
     "end_time": "2025-09-09T03:02:11.914880",
     "exception": false,
     "start_time": "2025-09-09T03:02:11.725415",
     "status": "completed"
    },
    "tags": []
   },
   "outputs": [
    {
     "data": {
      "image/png": "[encoded data removed]",
      "text/plain": [
       "<Figure size 600x500 with 1 Axes>"
      ]
     },
     "metadata": {},
     "output_type": "display_data"
    }
   ],
   "source": [
    "import seaborn as sns\n",
    "\n",
    "plt.figure(figsize=(6,5))\n",
    "sns.boxplot(x=results[\"Actual\"], y=results[\"Churn_Probability\"], palette=\"coolwarm\")\n",
    "plt.title(\"Churn Probability Distribution by Actual Class\")\n",
    "plt.show()\n"
   ]
  },
  {
   "cell_type": "code",
   "execution_count": 50,
   "id": "907b69df",
   "metadata": {
    "execution": {
     "iopub.execute_input": "2025-09-09T03:02:11.967962Z",
     "iopub.status.busy": "2025-09-09T03:02:11.966820Z",
     "iopub.status.idle": "2025-09-09T03:02:11.979031Z",
     "shell.execute_reply": "2025-09-09T03:02:11.977802Z"
    },
    "papermill": {
     "duration": 0.038735,
     "end_time": "2025-09-09T03:02:11.980603",
     "exception": false,
     "start_time": "2025-09-09T03:02:11.941868",
     "status": "completed"
    },
    "tags": []
   },
   "outputs": [
    {
     "name": "stdout",
     "output_type": "stream",
     "text": [
      "✅ Model and encoder saved successfully!\n"
     ]
    }
   ],
   "source": [
    "import joblib\n",
    "\n",
    "# Save trained model + encoder\n",
    "joblib.dump(model, \"final_churn_model.pkl\")\n",
    "joblib.dump(ct, \"final_encoder.pkl\")\n",
    "\n",
    "print(\"✅ Model and encoder saved successfully!\")\n"
   ]
  },
  {
   "cell_type": "code",
   "execution_count": 51,
   "id": "e93f82b2",
   "metadata": {
    "execution": {
     "iopub.execute_input": "2025-09-09T03:02:12.029343Z",
     "iopub.status.busy": "2025-09-09T03:02:12.028670Z",
     "iopub.status.idle": "2025-09-09T03:02:12.039658Z",
     "shell.execute_reply": "2025-09-09T03:02:12.038576Z"
    },
    "papermill": {
     "duration": 0.036882,
     "end_time": "2025-09-09T03:02:12.041223",
     "exception": false,
     "start_time": "2025-09-09T03:02:12.004341",
     "status": "completed"
    },
    "tags": []
   },
   "outputs": [
    {
     "name": "stdout",
     "output_type": "stream",
     "text": [
      "✅ Model and encoder loaded successfully!\n"
     ]
    }
   ],
   "source": [
    "import joblib\n",
    "\n",
    "# Load saved model + encoder\n",
    "model = joblib.load(\"final_churn_model.pkl\")\n",
    "ct = joblib.load(\"final_encoder.pkl\")\n",
    "\n",
    "print(\"✅ Model and encoder loaded successfully!\")\n"
   ]
  },
  {
   "cell_type": "code",
   "execution_count": 52,
   "id": "00f0bca2",
   "metadata": {
    "execution": {
     "iopub.execute_input": "2025-09-09T03:02:12.090168Z",
     "iopub.status.busy": "2025-09-09T03:02:12.089847Z",
     "iopub.status.idle": "2025-09-09T03:02:12.529812Z",
     "shell.execute_reply": "2025-09-09T03:02:12.528714Z"
    },
    "papermill": {
     "duration": 0.466125,
     "end_time": "2025-09-09T03:02:12.531383",
     "exception": false,
     "start_time": "2025-09-09T03:02:12.065258",
     "status": "completed"
    },
    "tags": []
   },
   "outputs": [
    {
     "name": "stdout",
     "output_type": "stream",
     "text": [
      "-rw-r--r-- 1 root root 46K Sep  9 03:01 churn_model.pkl\r\n",
      "-rw-r--r-- 1 root root 76K Sep  9 03:01 encoder.pkl\r\n",
      "churn_model.pkl: data\r\n",
      "encoder.pkl: data\r\n"
     ]
    }
   ],
   "source": [
    "!ls -lh churn_model.pkl encoder.pkl  # Check size\n",
    "!file churn_model.pkl\n",
    "!file encoder.pkl\n"
   ]
  },
  {
   "cell_type": "code",
   "execution_count": 53,
   "id": "686374c9",
   "metadata": {
    "execution": {
     "iopub.execute_input": "2025-09-09T03:02:12.581964Z",
     "iopub.status.busy": "2025-09-09T03:02:12.581041Z",
     "iopub.status.idle": "2025-09-09T03:02:12.596230Z",
     "shell.execute_reply": "2025-09-09T03:02:12.595329Z"
    },
    "papermill": {
     "duration": 0.042183,
     "end_time": "2025-09-09T03:02:12.597658",
     "exception": false,
     "start_time": "2025-09-09T03:02:12.555475",
     "status": "completed"
    },
    "tags": []
   },
   "outputs": [
    {
     "data": {
      "text/plain": [
       "['encoder.pkl']"
      ]
     },
     "execution_count": 53,
     "metadata": {},
     "output_type": "execute_result"
    }
   ],
   "source": [
    "import joblib\n",
    "joblib.dump(model, \"churn_model.pkl\")\n",
    "joblib.dump(ct, \"encoder.pkl\")\n"
   ]
  },
  {
   "cell_type": "code",
   "execution_count": 54,
   "id": "98e723e2",
   "metadata": {
    "execution": {
     "iopub.execute_input": "2025-09-09T03:02:12.647479Z",
     "iopub.status.busy": "2025-09-09T03:02:12.647124Z",
     "iopub.status.idle": "2025-09-09T03:02:12.652351Z",
     "shell.execute_reply": "2025-09-09T03:02:12.651586Z"
    },
    "papermill": {
     "duration": 0.032343,
     "end_time": "2025-09-09T03:02:12.654044",
     "exception": false,
     "start_time": "2025-09-09T03:02:12.621701",
     "status": "completed"
    },
    "tags": []
   },
   "outputs": [
    {
     "name": "stdout",
     "output_type": "stream",
     "text": [
      "['churn_model.pkl', 'churn_predictions.csv', 'final_encoder.pkl', '__notebook__.ipynb', 'training_columns.pkl', 'high_risk_customers.csv', 'encoder.pkl', 'final_churn_model.pkl']\n"
     ]
    }
   ],
   "source": [
    "import os\n",
    "\n",
    "# List files in current working directory\n",
    "print(os.listdir())\n"
   ]
  },
  {
   "cell_type": "code",
   "execution_count": 55,
   "id": "8dd73938",
   "metadata": {
    "execution": {
     "iopub.execute_input": "2025-09-09T03:02:12.704383Z",
     "iopub.status.busy": "2025-09-09T03:02:12.703603Z",
     "iopub.status.idle": "2025-09-09T03:02:12.709028Z",
     "shell.execute_reply": "2025-09-09T03:02:12.708127Z"
    },
    "papermill": {
     "duration": 0.031854,
     "end_time": "2025-09-09T03:02:12.710565",
     "exception": false,
     "start_time": "2025-09-09T03:02:12.678711",
     "status": "completed"
    },
    "tags": []
   },
   "outputs": [
    {
     "name": "stdout",
     "output_type": "stream",
     "text": [
      "['telco-customer-churn', 'archive-zip-file', 'telco-customer-churn-csv', 'telco-customer-churn-logisticregression']\n"
     ]
    }
   ],
   "source": [
    "import os\n",
    "\n",
    "print(os.listdir(\"/kaggle/input\"))\n"
   ]
  },
  {
   "cell_type": "code",
   "execution_count": 56,
   "id": "61b715af",
   "metadata": {
    "execution": {
     "iopub.execute_input": "2025-09-09T03:02:12.760653Z",
     "iopub.status.busy": "2025-09-09T03:02:12.759832Z",
     "iopub.status.idle": "2025-09-09T03:02:12.767961Z",
     "shell.execute_reply": "2025-09-09T03:02:12.766664Z"
    },
    "papermill": {
     "duration": 0.034899,
     "end_time": "2025-09-09T03:02:12.769456",
     "exception": false,
     "start_time": "2025-09-09T03:02:12.734557",
     "status": "completed"
    },
    "tags": []
   },
   "outputs": [
    {
     "name": "stdout",
     "output_type": "stream",
     "text": [
      "['WA_Fn-UseC_-Telco-Customer-Churn.csv']\n"
     ]
    }
   ],
   "source": [
    "print(os.listdir(\"/kaggle/input/telco-customer-churn\"))\n"
   ]
  },
  {
   "cell_type": "code",
   "execution_count": 57,
   "id": "a7183d3b",
   "metadata": {
    "execution": {
     "iopub.execute_input": "2025-09-09T03:02:12.819677Z",
     "iopub.status.busy": "2025-09-09T03:02:12.819307Z",
     "iopub.status.idle": "2025-09-09T03:02:12.866381Z",
     "shell.execute_reply": "2025-09-09T03:02:12.865300Z"
    },
    "papermill": {
     "duration": 0.074144,
     "end_time": "2025-09-09T03:02:12.868320",
     "exception": false,
     "start_time": "2025-09-09T03:02:12.794176",
     "status": "completed"
    },
    "tags": []
   },
   "outputs": [
    {
     "name": "stdout",
     "output_type": "stream",
     "text": [
      "(7043, 21)\n",
      "   customerID  gender  SeniorCitizen Partner Dependents  tenure PhoneService  \\\n",
      "0  7590-VHVEG  Female              0     Yes         No       1           No   \n",
      "1  5575-GNVDE    Male              0      No         No      34          Yes   \n",
      "2  3668-QPYBK    Male              0      No         No       2          Yes   \n",
      "3  7795-CFOCW    Male              0      No         No      45           No   \n",
      "4  9237-HQITU  Female              0      No         No       2          Yes   \n",
      "\n",
      "      MultipleLines InternetService OnlineSecurity  ... DeviceProtection  \\\n",
      "0  No phone service             DSL             No  ...               No   \n",
      "1                No             DSL            Yes  ...              Yes   \n",
      "2                No             DSL            Yes  ...               No   \n",
      "3  No phone service             DSL            Yes  ...              Yes   \n",
      "4                No     Fiber optic             No  ...               No   \n",
      "\n",
      "  TechSupport StreamingTV StreamingMovies        Contract PaperlessBilling  \\\n",
      "0          No          No              No  Month-to-month              Yes   \n",
      "1          No          No              No        One year               No   \n",
      "2          No          No              No  Month-to-month              Yes   \n",
      "3         Yes          No              No        One year               No   \n",
      "4          No          No              No  Month-to-month              Yes   \n",
      "\n",
      "               PaymentMethod MonthlyCharges  TotalCharges Churn  \n",
      "0           Electronic check          29.85         29.85    No  \n",
      "1               Mailed check          56.95        1889.5    No  \n",
      "2               Mailed check          53.85        108.15   Yes  \n",
      "3  Bank transfer (automatic)          42.30       1840.75    No  \n",
      "4           Electronic check          70.70        151.65   Yes  \n",
      "\n",
      "[5 rows x 21 columns]\n"
     ]
    }
   ],
   "source": [
    "df = pd.read_csv(\"/kaggle/input/telco-customer-churn/WA_Fn-UseC_-Telco-Customer-Churn.csv\")\n",
    "print(df.shape)\n",
    "print(df.head())\n"
   ]
  },
  {
   "cell_type": "code",
   "execution_count": 58,
   "id": "7eb6d0ab",
   "metadata": {
    "execution": {
     "iopub.execute_input": "2025-09-09T03:02:12.918052Z",
     "iopub.status.busy": "2025-09-09T03:02:12.917711Z",
     "iopub.status.idle": "2025-09-09T03:02:12.924140Z",
     "shell.execute_reply": "2025-09-09T03:02:12.923299Z"
    },
    "papermill": {
     "duration": 0.032983,
     "end_time": "2025-09-09T03:02:12.925701",
     "exception": false,
     "start_time": "2025-09-09T03:02:12.892718",
     "status": "completed"
    },
    "tags": []
   },
   "outputs": [
    {
     "name": "stdout",
     "output_type": "stream",
     "text": [
      "['telco-customer-churn', 'archive-zip-file', 'telco-customer-churn-csv', 'telco-customer-churn-logisticregression']\n"
     ]
    }
   ],
   "source": [
    "import os\n",
    "print(os.listdir(\"/kaggle/input\"))\n",
    "\n"
   ]
  },
  {
   "cell_type": "code",
   "execution_count": 59,
   "id": "ec06d2d6",
   "metadata": {
    "execution": {
     "iopub.execute_input": "2025-09-09T03:02:12.977460Z",
     "iopub.status.busy": "2025-09-09T03:02:12.977085Z",
     "iopub.status.idle": "2025-09-09T03:02:12.982756Z",
     "shell.execute_reply": "2025-09-09T03:02:12.981763Z"
    },
    "papermill": {
     "duration": 0.033759,
     "end_time": "2025-09-09T03:02:12.984342",
     "exception": false,
     "start_time": "2025-09-09T03:02:12.950583",
     "status": "completed"
    },
    "tags": []
   },
   "outputs": [
    {
     "name": "stdout",
     "output_type": "stream",
     "text": [
      "['WA_Fn-UseC_-Telco-Customer-Churn.csv']\n"
     ]
    }
   ],
   "source": [
    "import os\n",
    "print(os.listdir(\"/kaggle/input/telco-customer-churn\"))\n"
   ]
  },
  {
   "cell_type": "code",
   "execution_count": 60,
   "id": "882f2fe5",
   "metadata": {
    "execution": {
     "iopub.execute_input": "2025-09-09T03:02:13.034295Z",
     "iopub.status.busy": "2025-09-09T03:02:13.033965Z",
     "iopub.status.idle": "2025-09-09T03:02:13.076646Z",
     "shell.execute_reply": "2025-09-09T03:02:13.075578Z"
    },
    "papermill": {
     "duration": 0.06955,
     "end_time": "2025-09-09T03:02:13.078310",
     "exception": false,
     "start_time": "2025-09-09T03:02:13.008760",
     "status": "completed"
    },
    "tags": []
   },
   "outputs": [
    {
     "name": "stdout",
     "output_type": "stream",
     "text": [
      "(7043, 21)\n",
      "   customerID  gender  SeniorCitizen Partner Dependents  tenure PhoneService  \\\n",
      "0  7590-VHVEG  Female              0     Yes         No       1           No   \n",
      "1  5575-GNVDE    Male              0      No         No      34          Yes   \n",
      "2  3668-QPYBK    Male              0      No         No       2          Yes   \n",
      "3  7795-CFOCW    Male              0      No         No      45           No   \n",
      "4  9237-HQITU  Female              0      No         No       2          Yes   \n",
      "\n",
      "      MultipleLines InternetService OnlineSecurity  ... DeviceProtection  \\\n",
      "0  No phone service             DSL             No  ...               No   \n",
      "1                No             DSL            Yes  ...              Yes   \n",
      "2                No             DSL            Yes  ...               No   \n",
      "3  No phone service             DSL            Yes  ...              Yes   \n",
      "4                No     Fiber optic             No  ...               No   \n",
      "\n",
      "  TechSupport StreamingTV StreamingMovies        Contract PaperlessBilling  \\\n",
      "0          No          No              No  Month-to-month              Yes   \n",
      "1          No          No              No        One year               No   \n",
      "2          No          No              No  Month-to-month              Yes   \n",
      "3         Yes          No              No        One year               No   \n",
      "4          No          No              No  Month-to-month              Yes   \n",
      "\n",
      "               PaymentMethod MonthlyCharges  TotalCharges Churn  \n",
      "0           Electronic check          29.85         29.85    No  \n",
      "1               Mailed check          56.95        1889.5    No  \n",
      "2               Mailed check          53.85        108.15   Yes  \n",
      "3  Bank transfer (automatic)          42.30       1840.75    No  \n",
      "4           Electronic check          70.70        151.65   Yes  \n",
      "\n",
      "[5 rows x 21 columns]\n"
     ]
    }
   ],
   "source": [
    "import pandas as pd\n",
    "\n",
    "# Load dataset\n",
    "df = pd.read_csv(\"/kaggle/input/telco-customer-churn/WA_Fn-UseC_-Telco-Customer-Churn.csv\")\n",
    "\n",
    "# Check shape and first rows\n",
    "print(df.shape)\n",
    "print(df.head())\n"
   ]
  },
  {
   "cell_type": "code",
   "execution_count": 61,
   "id": "1f624ed0",
   "metadata": {
    "execution": {
     "iopub.execute_input": "2025-09-09T03:02:13.130876Z",
     "iopub.status.busy": "2025-09-09T03:02:13.130531Z",
     "iopub.status.idle": "2025-09-09T03:02:13.148701Z",
     "shell.execute_reply": "2025-09-09T03:02:13.147578Z"
    },
    "papermill": {
     "duration": 0.045378,
     "end_time": "2025-09-09T03:02:13.150338",
     "exception": false,
     "start_time": "2025-09-09T03:02:13.104960",
     "status": "completed"
    },
    "tags": []
   },
   "outputs": [
    {
     "name": "stdout",
     "output_type": "stream",
     "text": [
      "(7043, 20)\n",
      "   gender  SeniorCitizen Partner Dependents  tenure PhoneService  \\\n",
      "0  Female              0     Yes         No       1           No   \n",
      "1    Male              0      No         No      34          Yes   \n",
      "2    Male              0      No         No       2          Yes   \n",
      "3    Male              0      No         No      45           No   \n",
      "4  Female              0      No         No       2          Yes   \n",
      "\n",
      "      MultipleLines InternetService OnlineSecurity OnlineBackup  \\\n",
      "0  No phone service             DSL             No          Yes   \n",
      "1                No             DSL            Yes           No   \n",
      "2                No             DSL            Yes          Yes   \n",
      "3  No phone service             DSL            Yes           No   \n",
      "4                No     Fiber optic             No           No   \n",
      "\n",
      "  DeviceProtection TechSupport StreamingTV StreamingMovies        Contract  \\\n",
      "0               No          No          No              No  Month-to-month   \n",
      "1              Yes          No          No              No        One year   \n",
      "2               No          No          No              No  Month-to-month   \n",
      "3              Yes         Yes          No              No        One year   \n",
      "4               No          No          No              No  Month-to-month   \n",
      "\n",
      "  PaperlessBilling              PaymentMethod  MonthlyCharges  TotalCharges  \\\n",
      "0              Yes           Electronic check           29.85         29.85   \n",
      "1               No               Mailed check           56.95       1889.50   \n",
      "2              Yes               Mailed check           53.85        108.15   \n",
      "3               No  Bank transfer (automatic)           42.30       1840.75   \n",
      "4              Yes           Electronic check           70.70        151.65   \n",
      "\n",
      "  Churn  \n",
      "0    No  \n",
      "1    No  \n",
      "2   Yes  \n",
      "3    No  \n",
      "4   Yes  \n"
     ]
    }
   ],
   "source": [
    "# Drop customerID if present\n",
    "if \"customerID\" in df.columns:\n",
    "    df = df.drop(\"customerID\", axis=1)\n",
    "\n",
    "# Convert TotalCharges to numeric (fix errors like blanks)\n",
    "df[\"TotalCharges\"] = pd.to_numeric(df[\"TotalCharges\"], errors=\"coerce\")\n",
    "\n",
    "# Fill missing TotalCharges with 0\n",
    "df[\"TotalCharges\"] = df[\"TotalCharges\"].fillna(0)\n",
    "\n",
    "print(df.shape)\n",
    "print(df.head())\n"
   ]
  },
  {
   "cell_type": "code",
   "execution_count": 62,
   "id": "973ccfa7",
   "metadata": {
    "execution": {
     "iopub.execute_input": "2025-09-09T03:02:13.201183Z",
     "iopub.status.busy": "2025-09-09T03:02:13.200290Z",
     "iopub.status.idle": "2025-09-09T03:02:13.264934Z",
     "shell.execute_reply": "2025-09-09T03:02:13.263751Z"
    },
    "papermill": {
     "duration": 0.091803,
     "end_time": "2025-09-09T03:02:13.266684",
     "exception": false,
     "start_time": "2025-09-09T03:02:13.174881",
     "status": "completed"
    },
    "tags": []
   },
   "outputs": [
    {
     "name": "stdout",
     "output_type": "stream",
     "text": [
      "Train set shape: (5634, 19) (5634,)\n",
      "Test set shape: (1409, 19) (1409,)\n",
      "Encoded train shape: (5634, 45)\n",
      "Encoded test shape: (1409, 45)\n"
     ]
    }
   ],
   "source": [
    "from sklearn.model_selection import train_test_split\n",
    "from sklearn.preprocessing import OneHotEncoder\n",
    "from sklearn.compose import ColumnTransformer\n",
    "\n",
    "# --- 1. Features (X) and Target (y) ---\n",
    "X = df.drop(\"Churn\", axis=1)\n",
    "y = df[\"Churn\"]\n",
    "\n",
    "# --- 2. Train-test split ---\n",
    "X_train, X_test, y_train, y_test = train_test_split(\n",
    "    X, y, test_size=0.2, random_state=42, stratify=y\n",
    ")\n",
    "\n",
    "print(\"Train set shape:\", X_train.shape, y_train.shape)\n",
    "print(\"Test set shape:\", X_test.shape, y_test.shape)\n",
    "\n",
    "# --- 3. Encode categorical features ---\n",
    "categorical_cols = X.select_dtypes(include=[\"object\"]).columns.tolist()\n",
    "numeric_cols = X.select_dtypes(exclude=[\"object\"]).columns.tolist()\n",
    "\n",
    "ct = ColumnTransformer(\n",
    "    transformers=[\n",
    "        (\"encoder\", OneHotEncoder(handle_unknown=\"ignore\"), categorical_cols)\n",
    "    ],\n",
    "    remainder=\"passthrough\"\n",
    ")\n",
    "\n",
    "# Transform train & test\n",
    "X_train_encoded = ct.fit_transform(X_train)\n",
    "X_test_encoded = ct.transform(X_test)\n",
    "\n",
    "print(\"Encoded train shape:\", X_train_encoded.shape)\n",
    "print(\"Encoded test shape:\", X_test_encoded.shape)\n"
   ]
  },
  {
   "cell_type": "code",
   "execution_count": 63,
   "id": "2b28cdaf",
   "metadata": {
    "execution": {
     "iopub.execute_input": "2025-09-09T03:02:13.319350Z",
     "iopub.status.busy": "2025-09-09T03:02:13.319024Z",
     "iopub.status.idle": "2025-09-09T03:02:14.218234Z",
     "shell.execute_reply": "2025-09-09T03:02:14.216910Z"
    },
    "papermill": {
     "duration": 0.928097,
     "end_time": "2025-09-09T03:02:14.220153",
     "exception": false,
     "start_time": "2025-09-09T03:02:13.292056",
     "status": "completed"
    },
    "tags": []
   },
   "outputs": [
    {
     "name": "stdout",
     "output_type": "stream",
     "text": [
      "✅ Accuracy: 0.7416607523066004\n",
      "\n",
      "Confusion Matrix:\n",
      " [[752 283]\n",
      " [ 81 293]]\n",
      "\n",
      "Classification Report:\n",
      "               precision    recall  f1-score   support\n",
      "\n",
      "          No       0.90      0.73      0.81      1035\n",
      "         Yes       0.51      0.78      0.62       374\n",
      "\n",
      "    accuracy                           0.74      1409\n",
      "   macro avg       0.71      0.75      0.71      1409\n",
      "weighted avg       0.80      0.74      0.76      1409\n",
      "\n"
     ]
    }
   ],
   "source": [
    "import pandas as pd\n",
    "from sklearn.model_selection import train_test_split\n",
    "from sklearn.preprocessing import OneHotEncoder\n",
    "from sklearn.compose import ColumnTransformer\n",
    "from sklearn.linear_model import LogisticRegression\n",
    "from sklearn.metrics import accuracy_score, confusion_matrix, classification_report\n",
    "\n",
    "# --- 1. Load dataset ---\n",
    "df = pd.read_csv(\"/kaggle/input/telco-customer-churn/WA_Fn-UseC_-Telco-Customer-Churn.csv\")\n",
    "\n",
    "# --- 2. Clean dataset ---\n",
    "if \"customerID\" in df.columns:\n",
    "    df = df.drop(\"customerID\", axis=1)\n",
    "\n",
    "df[\"TotalCharges\"] = pd.to_numeric(df[\"TotalCharges\"], errors=\"coerce\")\n",
    "df[\"TotalCharges\"] = df[\"TotalCharges\"].fillna(0)\n",
    "\n",
    "# --- 3. Features and Target ---\n",
    "X = df.drop(\"Churn\", axis=1)\n",
    "y = df[\"Churn\"]\n",
    "\n",
    "# --- 4. Train-Test Split ---\n",
    "X_train, X_test, y_train, y_test = train_test_split(\n",
    "    X, y, test_size=0.2, random_state=42, stratify=y\n",
    ")\n",
    "\n",
    "# --- 5. Encoding ---\n",
    "categorical_cols = X.select_dtypes(include=[\"object\"]).columns.tolist()\n",
    "numeric_cols = X.select_dtypes(exclude=[\"object\"]).columns.tolist()\n",
    "\n",
    "ct = ColumnTransformer(\n",
    "    transformers=[(\"encoder\", OneHotEncoder(handle_unknown=\"ignore\"), categorical_cols)],\n",
    "    remainder=\"passthrough\"\n",
    ")\n",
    "\n",
    "X_train_encoded = ct.fit_transform(X_train)\n",
    "X_test_encoded = ct.transform(X_test)\n",
    "\n",
    "# --- 6. Train Logistic Regression ---\n",
    "model = LogisticRegression(max_iter=1000, class_weight=\"balanced\", random_state=42)\n",
    "model.fit(X_train_encoded, y_train)\n",
    "\n",
    "# --- 7. Predictions ---\n",
    "y_pred = model.predict(X_test_encoded)\n",
    "\n",
    "# --- 8. Evaluation ---\n",
    "print(\"✅ Accuracy:\", accuracy_score(y_test, y_pred))\n",
    "print(\"\\nConfusion Matrix:\\n\", confusion_matrix(y_test, y_pred))\n",
    "print(\"\\nClassification Report:\\n\", classification_report(y_test, y_pred))\n"
   ]
  },
  {
   "cell_type": "code",
   "execution_count": 64,
   "id": "2da2f798",
   "metadata": {
    "execution": {
     "iopub.execute_input": "2025-09-09T03:02:14.278594Z",
     "iopub.status.busy": "2025-09-09T03:02:14.278179Z",
     "iopub.status.idle": "2025-09-09T03:02:14.532210Z",
     "shell.execute_reply": "2025-09-09T03:02:14.531347Z"
    },
    "papermill": {
     "duration": 0.281262,
     "end_time": "2025-09-09T03:02:14.533840",
     "exception": false,
     "start_time": "2025-09-09T03:02:14.252578",
     "status": "completed"
    },
    "tags": []
   },
   "outputs": [
    {
     "name": "stdout",
     "output_type": "stream",
     "text": [
      "✅ ROC-AUC Score: 0.8418093983311374\n"
     ]
    },
    {
     "data": {
      "image/png": "[encoded data removed]",
      "text/plain": [
       "<Figure size 600x600 with 1 Axes>"
      ]
     },
     "metadata": {},
     "output_type": "display_data"
    }
   ],
   "source": [
    "from sklearn.metrics import roc_auc_score, roc_curve\n",
    "import matplotlib.pyplot as plt\n",
    "\n",
    "# Get churn probabilities\n",
    "y_proba = model.predict_proba(X_test_encoded)[:, 1]\n",
    "\n",
    "# Calculate ROC-AUC score\n",
    "auc = roc_auc_score((y_test == \"Yes\").astype(int), y_proba)\n",
    "print(\"✅ ROC-AUC Score:\", auc)\n",
    "\n",
    "# Plot ROC curve\n",
    "fpr, tpr, thresholds = roc_curve((y_test == \"Yes\").astype(int), y_proba)\n",
    "plt.figure(figsize=(6,6))\n",
    "plt.plot(fpr, tpr, label=f\"AUC = {auc:.2f}\")\n",
    "plt.plot([0,1], [0,1], linestyle=\"--\", color=\"gray\")\n",
    "plt.xlabel(\"False Positive Rate\")\n",
    "plt.ylabel(\"True Positive Rate\")\n",
    "plt.title(\"ROC Curve - Customer Churn\")\n",
    "plt.legend()\n",
    "plt.show()\n"
   ]
  },
  {
   "cell_type": "code",
   "execution_count": 65,
   "id": "63f1c069",
   "metadata": {
    "execution": {
     "iopub.execute_input": "2025-09-09T03:02:14.588059Z",
     "iopub.status.busy": "2025-09-09T03:02:14.587766Z",
     "iopub.status.idle": "2025-09-09T03:02:14.597297Z",
     "shell.execute_reply": "2025-09-09T03:02:14.596285Z"
    },
    "papermill": {
     "duration": 0.037974,
     "end_time": "2025-09-09T03:02:14.598911",
     "exception": false,
     "start_time": "2025-09-09T03:02:14.560937",
     "status": "completed"
    },
    "tags": []
   },
   "outputs": [
    {
     "name": "stdout",
     "output_type": "stream",
     "text": [
      "✅ Model and encoder saved successfully!\n"
     ]
    }
   ],
   "source": [
    "import joblib\n",
    "\n",
    "# Save model and encoder\n",
    "joblib.dump(model, \"churn_model.pkl\")\n",
    "joblib.dump(ct, \"encoder.pkl\")\n",
    "\n",
    "print(\"✅ Model and encoder saved successfully!\")\n"
   ]
  },
  {
   "cell_type": "code",
   "execution_count": 66,
   "id": "ee9bfa54",
   "metadata": {
    "execution": {
     "iopub.execute_input": "2025-09-09T03:02:14.650498Z",
     "iopub.status.busy": "2025-09-09T03:02:14.650135Z",
     "iopub.status.idle": "2025-09-09T03:02:14.666620Z",
     "shell.execute_reply": "2025-09-09T03:02:14.665765Z"
    },
    "papermill": {
     "duration": 0.044002,
     "end_time": "2025-09-09T03:02:14.668077",
     "exception": false,
     "start_time": "2025-09-09T03:02:14.624075",
     "status": "completed"
    },
    "tags": []
   },
   "outputs": [
    {
     "name": "stdout",
     "output_type": "stream",
     "text": [
      "Predicted class: Yes\n",
      "Churn probability: 0.8693922399418257\n"
     ]
    }
   ],
   "source": [
    "import pandas as pd\n",
    "\n",
    "# Example new customer\n",
    "new_customer = pd.DataFrame([{\n",
    "    \"gender\": \"Female\",\n",
    "    \"SeniorCitizen\": 0,\n",
    "    \"Partner\": \"Yes\",\n",
    "    \"Dependents\": \"No\",\n",
    "    \"tenure\": 5,\n",
    "    \"PhoneService\": \"Yes\",\n",
    "    \"MultipleLines\": \"No\",\n",
    "    \"InternetService\": \"Fiber optic\",\n",
    "    \"OnlineSecurity\": \"No\",\n",
    "    \"OnlineBackup\": \"Yes\",\n",
    "    \"DeviceProtection\": \"No\",\n",
    "    \"TechSupport\": \"No\",\n",
    "    \"StreamingTV\": \"Yes\",\n",
    "    \"StreamingMovies\": \"Yes\",\n",
    "    \"Contract\": \"Month-to-month\",\n",
    "    \"PaperlessBilling\": \"Yes\",\n",
    "    \"PaymentMethod\": \"Electronic check\",\n",
    "    \"MonthlyCharges\": 80.0,\n",
    "    \"TotalCharges\": 400.0\n",
    "}])\n",
    "\n",
    "# Encode using the saved encoder\n",
    "new_customer_encoded = ct.transform(new_customer)\n",
    "\n",
    "# Predict\n",
    "prediction = model.predict(new_customer_encoded)[0]\n",
    "probability = model.predict_proba(new_customer_encoded)[0][1]\n",
    "\n",
    "print(\"Predicted class:\", prediction)\n",
    "print(\"Churn probability:\", probability)\n"
   ]
  },
  {
   "cell_type": "code",
   "execution_count": 67,
   "id": "40e18cc1",
   "metadata": {
    "execution": {
     "iopub.execute_input": "2025-09-09T03:02:14.720121Z",
     "iopub.status.busy": "2025-09-09T03:02:14.719781Z",
     "iopub.status.idle": "2025-09-09T03:02:14.734238Z",
     "shell.execute_reply": "2025-09-09T03:02:14.733225Z"
    },
    "papermill": {
     "duration": 0.042554,
     "end_time": "2025-09-09T03:02:14.736056",
     "exception": false,
     "start_time": "2025-09-09T03:02:14.693502",
     "status": "completed"
    },
    "tags": []
   },
   "outputs": [
    {
     "name": "stdout",
     "output_type": "stream",
     "text": [
      "  Actual Predicted  Churn_Probability\n",
      "0     No        No           0.122303\n",
      "1     No       Yes           0.856373\n",
      "2     No        No           0.146207\n",
      "3     No       Yes           0.650719\n",
      "4     No        No           0.057287\n",
      "5     No       Yes           0.806212\n",
      "6     No       Yes           0.699828\n",
      "7     No        No           0.283223\n",
      "8     No        No           0.009233\n",
      "9    Yes       Yes           0.649202\n",
      "✅ Results saved to churn_predictions.csv\n"
     ]
    }
   ],
   "source": [
    "import pandas as pd\n",
    "\n",
    "# Get probabilities\n",
    "y_proba = model.predict_proba(X_test_encoded)[:, 1]\n",
    "\n",
    "# Create results DataFrame\n",
    "results = pd.DataFrame({\n",
    "    \"Actual\": y_test.values,\n",
    "    \"Predicted\": y_pred,\n",
    "    \"Churn_Probability\": y_proba\n",
    "})\n",
    "\n",
    "print(results.head(10))\n",
    "\n",
    "# Save full results\n",
    "results.to_csv(\"churn_predictions.csv\", index=False)\n",
    "print(\"✅ Results saved to churn_predictions.csv\")\n"
   ]
  },
  {
   "cell_type": "code",
   "execution_count": 68,
   "id": "b371df3a",
   "metadata": {
    "execution": {
     "iopub.execute_input": "2025-09-09T03:02:14.789209Z",
     "iopub.status.busy": "2025-09-09T03:02:14.788902Z",
     "iopub.status.idle": "2025-09-09T03:02:14.801332Z",
     "shell.execute_reply": "2025-09-09T03:02:14.800392Z"
    },
    "papermill": {
     "duration": 0.040856,
     "end_time": "2025-09-09T03:02:14.802961",
     "exception": false,
     "start_time": "2025-09-09T03:02:14.762105",
     "status": "completed"
    },
    "tags": []
   },
   "outputs": [
    {
     "name": "stdout",
     "output_type": "stream",
     "text": [
      "High risk customers (probability > 70%):\n",
      "   Actual Predicted  Churn_Probability\n",
      "1      No       Yes           0.856373\n",
      "5      No       Yes           0.806212\n",
      "13    Yes       Yes           0.854681\n",
      "17     No       Yes           0.824229\n",
      "20    Yes       Yes           0.868401\n",
      "26    Yes       Yes           0.793419\n",
      "27    Yes       Yes           0.860948\n",
      "29    Yes       Yes           0.902504\n",
      "30     No       Yes           0.709982\n",
      "34    Yes       Yes           0.905888\n",
      "✅ High-risk customers saved to high_risk_customers.csv\n"
     ]
    }
   ],
   "source": [
    "# High-risk customers\n",
    "high_risk = results[results[\"Churn_Probability\"] > 0.7]\n",
    "\n",
    "print(\"High risk customers (probability > 70%):\")\n",
    "print(high_risk.head(10))\n",
    "\n",
    "# Save high-risk customers\n",
    "high_risk.to_csv(\"high_risk_customers.csv\", index=False)\n",
    "print(\"✅ High-risk customers saved to high_risk_customers.csv\")\n"
   ]
  },
  {
   "cell_type": "code",
   "execution_count": 69,
   "id": "a4aafe0c",
   "metadata": {
    "execution": {
     "iopub.execute_input": "2025-09-09T03:02:14.855749Z",
     "iopub.status.busy": "2025-09-09T03:02:14.855394Z",
     "iopub.status.idle": "2025-09-09T03:02:14.872449Z",
     "shell.execute_reply": "2025-09-09T03:02:14.871496Z"
    },
    "papermill": {
     "duration": 0.045189,
     "end_time": "2025-09-09T03:02:14.873958",
     "exception": false,
     "start_time": "2025-09-09T03:02:14.828769",
     "status": "completed"
    },
    "tags": []
   },
   "outputs": [
    {
     "name": "stdout",
     "output_type": "stream",
     "text": [
      "Customer 1: Predicted = Yes, Churn Probability = 0.89\n",
      "Customer 2: Predicted = No, Churn Probability = 0.06\n"
     ]
    }
   ],
   "source": [
    "# Example: multiple new customers\n",
    "new_customers = pd.DataFrame([\n",
    "    {\n",
    "        \"gender\": \"Female\", \"SeniorCitizen\": 0, \"Partner\": \"Yes\", \"Dependents\": \"No\",\n",
    "        \"tenure\": 5, \"PhoneService\": \"Yes\", \"MultipleLines\": \"No\",\n",
    "        \"InternetService\": \"Fiber optic\", \"OnlineSecurity\": \"No\", \"OnlineBackup\": \"No\",\n",
    "        \"DeviceProtection\": \"No\", \"TechSupport\": \"No\", \"StreamingTV\": \"Yes\",\n",
    "        \"StreamingMovies\": \"Yes\", \"Contract\": \"Month-to-month\", \"PaperlessBilling\": \"Yes\",\n",
    "        \"PaymentMethod\": \"Electronic check\", \"MonthlyCharges\": 80.0, \"TotalCharges\": 400.0\n",
    "    },\n",
    "    {\n",
    "        \"gender\": \"Male\", \"SeniorCitizen\": 1, \"Partner\": \"No\", \"Dependents\": \"No\",\n",
    "        \"tenure\": 30, \"PhoneService\": \"Yes\", \"MultipleLines\": \"Yes\",\n",
    "        \"InternetService\": \"DSL\", \"OnlineSecurity\": \"Yes\", \"OnlineBackup\": \"Yes\",\n",
    "        \"DeviceProtection\": \"Yes\", \"TechSupport\": \"Yes\", \"StreamingTV\": \"No\",\n",
    "        \"StreamingMovies\": \"No\", \"Contract\": \"Two year\", \"PaperlessBilling\": \"No\",\n",
    "        \"PaymentMethod\": \"Bank transfer (automatic)\", \"MonthlyCharges\": 60.0, \"TotalCharges\": 1800.0\n",
    "    }\n",
    "])\n",
    "\n",
    "# Apply encoding\n",
    "new_customers_encoded = ct.transform(new_customers)\n",
    "\n",
    "# Predict churn\n",
    "predictions = model.predict(new_customers_encoded)\n",
    "probabilities = model.predict_proba(new_customers_encoded)[:, 1]\n",
    "\n",
    "# Show results\n",
    "for i, (p, prob) in enumerate(zip(predictions, probabilities)):\n",
    "    print(f\"Customer {i+1}: Predicted = {p}, Churn Probability = {prob:.2f}\")\n"
   ]
  },
  {
   "cell_type": "code",
   "execution_count": 70,
   "id": "07011768",
   "metadata": {
    "execution": {
     "iopub.execute_input": "2025-09-09T03:02:14.928160Z",
     "iopub.status.busy": "2025-09-09T03:02:14.927851Z",
     "iopub.status.idle": "2025-09-09T03:02:15.188238Z",
     "shell.execute_reply": "2025-09-09T03:02:15.187312Z"
    },
    "papermill": {
     "duration": 0.289704,
     "end_time": "2025-09-09T03:02:15.189861",
     "exception": false,
     "start_time": "2025-09-09T03:02:14.900157",
     "status": "completed"
    },
    "tags": []
   },
   "outputs": [
    {
     "data": {
      "image/png": "[encoded data removed]",
      "text/plain": [
       "<Figure size 640x480 with 1 Axes>"
      ]
     },
     "metadata": {},
     "output_type": "display_data"
    }
   ],
   "source": [
    "import matplotlib.pyplot as plt\n",
    "\n",
    "plt.hist(y_proba, bins=20, color=\"skyblue\", edgecolor=\"black\")\n",
    "plt.title(\"Churn Probability Distribution\")\n",
    "plt.xlabel(\"Churn Probability\")\n",
    "plt.ylabel(\"Number of Customers\")\n",
    "plt.show()\n"
   ]
  },
  {
   "cell_type": "code",
   "execution_count": 71,
   "id": "a4616420",
   "metadata": {
    "execution": {
     "iopub.execute_input": "2025-09-09T03:02:15.258042Z",
     "iopub.status.busy": "2025-09-09T03:02:15.257698Z",
     "iopub.status.idle": "2025-09-09T03:02:16.725049Z",
     "shell.execute_reply": "2025-09-09T03:02:16.723991Z"
    },
    "papermill": {
     "duration": 1.507072,
     "end_time": "2025-09-09T03:02:16.726665",
     "exception": false,
     "start_time": "2025-09-09T03:02:15.219593",
     "status": "completed"
    },
    "tags": []
   },
   "outputs": [
    {
     "name": "stdout",
     "output_type": "stream",
     "text": [
      "✅ Random Forest Results\n",
      "Accuracy: 0.7707594038325053\n",
      "\n",
      "Confusion Matrix:\n",
      " [[815 220]\n",
      " [103 271]]\n",
      "\n",
      "Classification Report:\n",
      "               precision    recall  f1-score   support\n",
      "\n",
      "          No       0.89      0.79      0.83      1035\n",
      "         Yes       0.55      0.72      0.63       374\n",
      "\n",
      "    accuracy                           0.77      1409\n",
      "   macro avg       0.72      0.76      0.73      1409\n",
      "weighted avg       0.80      0.77      0.78      1409\n",
      "\n",
      "ROC-AUC Score: 0.8384652148079258\n"
     ]
    }
   ],
   "source": [
    "from sklearn.ensemble import RandomForestClassifier\n",
    "from sklearn.metrics import accuracy_score, confusion_matrix, classification_report, roc_auc_score\n",
    "\n",
    "# --- Train Random Forest ---\n",
    "rf_model = RandomForestClassifier(\n",
    "    n_estimators=200,  # number of trees\n",
    "    max_depth=10,      # prevent overfitting\n",
    "    class_weight=\"balanced\",  # handle imbalance\n",
    "    random_state=42\n",
    ")\n",
    "\n",
    "rf_model.fit(X_train_encoded, y_train)\n",
    "\n",
    "# --- Predict ---\n",
    "rf_y_pred = rf_model.predict(X_test_encoded)\n",
    "rf_y_proba = rf_model.predict_proba(X_test_encoded)[:, 1]\n",
    "\n",
    "# --- Evaluate ---\n",
    "print(\"✅ Random Forest Results\")\n",
    "print(\"Accuracy:\", accuracy_score(y_test, rf_y_pred))\n",
    "print(\"\\nConfusion Matrix:\\n\", confusion_matrix(y_test, rf_y_pred))\n",
    "print(\"\\nClassification Report:\\n\", classification_report(y_test, rf_y_pred))\n",
    "print(\"ROC-AUC Score:\", roc_auc_score(y_test, rf_y_proba))\n"
   ]
  },
  {
   "cell_type": "code",
   "execution_count": 72,
   "id": "c4ee6827",
   "metadata": {
    "execution": {
     "iopub.execute_input": "2025-09-09T03:02:16.781841Z",
     "iopub.status.busy": "2025-09-09T03:02:16.781473Z",
     "iopub.status.idle": "2025-09-09T03:02:17.620458Z",
     "shell.execute_reply": "2025-09-09T03:02:17.619590Z"
    },
    "papermill": {
     "duration": 0.868734,
     "end_time": "2025-09-09T03:02:17.622353",
     "exception": false,
     "start_time": "2025-09-09T03:02:16.753619",
     "status": "completed"
    },
    "tags": []
   },
   "outputs": [
    {
     "name": "stdout",
     "output_type": "stream",
     "text": [
      "✅ Logistic Regression retrained, predictions done, and model saved!\n",
      "Accuracy: 0.7416607523066004\n",
      "ROC-AUC: 0.8418093983311374\n"
     ]
    }
   ],
   "source": [
    "import pandas as pd\n",
    "from sklearn.model_selection import train_test_split\n",
    "from sklearn.preprocessing import OneHotEncoder\n",
    "from sklearn.compose import ColumnTransformer\n",
    "from sklearn.linear_model import LogisticRegression\n",
    "from sklearn.metrics import accuracy_score, roc_auc_score\n",
    "import joblib\n",
    "\n",
    "# --- 1. Load dataset ---\n",
    "df = pd.read_csv(\"/kaggle/input/telco-customer-churn/WA_Fn-UseC_-Telco-Customer-Churn.csv\")\n",
    "\n",
    "# Drop customerID if present\n",
    "if \"customerID\" in df.columns:\n",
    "    df = df.drop(\"customerID\", axis=1)\n",
    "\n",
    "# Convert TotalCharges to numeric (fix errors like blanks)\n",
    "df[\"TotalCharges\"] = pd.to_numeric(df[\"TotalCharges\"], errors=\"coerce\")\n",
    "df[\"TotalCharges\"] = df[\"TotalCharges\"].fillna(0)\n",
    "\n",
    "# --- 2. Train-Test Split ---\n",
    "X = df.drop(\"Churn\", axis=1)\n",
    "y = df[\"Churn\"]\n",
    "\n",
    "X_train, X_test, y_train, y_test = train_test_split(\n",
    "    X, y, test_size=0.2, random_state=42, stratify=y\n",
    ")\n",
    "\n",
    "# --- 3. One-Hot Encode categorical features ---\n",
    "categorical_cols = X.select_dtypes(include=[\"object\"]).columns.tolist()\n",
    "ct = ColumnTransformer(\n",
    "    transformers=[(\"encoder\", OneHotEncoder(handle_unknown=\"ignore\"), categorical_cols)],\n",
    "    remainder=\"passthrough\"\n",
    ")\n",
    "\n",
    "X_train_encoded = ct.fit_transform(X_train)\n",
    "X_test_encoded = ct.transform(X_test)\n",
    "\n",
    "# --- 4. Train Logistic Regression ---\n",
    "model = LogisticRegression(max_iter=1000, class_weight=\"balanced\", random_state=42)\n",
    "model.fit(X_train_encoded, y_train)\n",
    "\n",
    "# --- 5. Predictions ---\n",
    "y_pred_log = model.predict(X_test_encoded)\n",
    "y_proba_log = model.predict_proba(X_test_encoded)[:, 1]\n",
    "\n",
    "# --- 6. Save model & encoder ---\n",
    "joblib.dump(model, \"churn_model.pkl\")\n",
    "joblib.dump(ct, \"encoder.pkl\")\n",
    "\n",
    "print(\"✅ Logistic Regression retrained, predictions done, and model saved!\")\n",
    "print(\"Accuracy:\", accuracy_score(y_test, y_pred_log))\n",
    "print(\"ROC-AUC:\", roc_auc_score((y_test==\"Yes\").astype(int), y_proba_log))\n"
   ]
  },
  {
   "cell_type": "code",
   "execution_count": 73,
   "id": "dbecf9c3",
   "metadata": {
    "execution": {
     "iopub.execute_input": "2025-09-09T03:02:17.712289Z",
     "iopub.status.busy": "2025-09-09T03:02:17.711967Z",
     "iopub.status.idle": "2025-09-09T03:02:19.580675Z",
     "shell.execute_reply": "2025-09-09T03:02:19.579406Z"
    },
    "papermill": {
     "duration": 1.916414,
     "end_time": "2025-09-09T03:02:19.582663",
     "exception": false,
     "start_time": "2025-09-09T03:02:17.666249",
     "status": "completed"
    },
    "tags": []
   },
   "outputs": [
    {
     "name": "stdout",
     "output_type": "stream",
     "text": [
      "✅ Random Forest Results\n",
      "Accuracy: 0.7863733144073811\n",
      "ROC-AUC: 0.8207393629388514\n",
      "Random Forest model saved!\n"
     ]
    }
   ],
   "source": [
    "from sklearn.ensemble import RandomForestClassifier\n",
    "\n",
    "# --- Train Random Forest ---\n",
    "rf_model = RandomForestClassifier(\n",
    "    n_estimators=200,\n",
    "    class_weight=\"balanced\",\n",
    "    random_state=42\n",
    ")\n",
    "rf_model.fit(X_train_encoded, y_train)\n",
    "\n",
    "# --- Predictions ---\n",
    "y_pred_rf = rf_model.predict(X_test_encoded)\n",
    "y_proba_rf = rf_model.predict_proba(X_test_encoded)[:, 1]\n",
    "\n",
    "# --- Metrics ---\n",
    "print(\"✅ Random Forest Results\")\n",
    "print(\"Accuracy:\", accuracy_score(y_test, y_pred_rf))\n",
    "print(\"ROC-AUC:\", roc_auc_score((y_test==\"Yes\").astype(int), y_proba_rf))\n",
    "\n",
    "# Save Random Forest\n",
    "joblib.dump(rf_model, \"rf_churn_model.pkl\")\n",
    "print(\"Random Forest model saved!\")\n"
   ]
  },
  {
   "cell_type": "code",
   "execution_count": 74,
   "id": "5ad3fc47",
   "metadata": {
    "execution": {
     "iopub.execute_input": "2025-09-09T03:02:19.639680Z",
     "iopub.status.busy": "2025-09-09T03:02:19.639197Z",
     "iopub.status.idle": "2025-09-09T03:02:19.984010Z",
     "shell.execute_reply": "2025-09-09T03:02:19.983087Z"
    },
    "papermill": {
     "duration": 0.373754,
     "end_time": "2025-09-09T03:02:19.985557",
     "exception": false,
     "start_time": "2025-09-09T03:02:19.611803",
     "status": "completed"
    },
    "tags": []
   },
   "outputs": [
    {
     "data": {
      "image/png": "[encoded data removed]",
      "text/plain": [
       "<Figure size 800x600 with 1 Axes>"
      ]
     },
     "metadata": {},
     "output_type": "display_data"
    }
   ],
   "source": [
    "import matplotlib.pyplot as plt\n",
    "from sklearn.metrics import roc_curve, roc_auc_score\n",
    "\n",
    "# --- ROC for Logistic Regression ---\n",
    "y_proba_log = model.predict_proba(X_test_encoded)[:, 1]\n",
    "fpr_log, tpr_log, _ = roc_curve((y_test==\"Yes\").astype(int), y_proba_log)\n",
    "auc_log = roc_auc_score((y_test==\"Yes\").astype(int), y_proba_log)\n",
    "\n",
    "# --- ROC for Random Forest ---\n",
    "y_proba_rf = rf_model.predict_proba(X_test_encoded)[:, 1]\n",
    "fpr_rf, tpr_rf, _ = roc_curve((y_test==\"Yes\").astype(int), y_proba_rf)\n",
    "auc_rf = roc_auc_score((y_test==\"Yes\").astype(int), y_proba_rf)\n",
    "\n",
    "# --- Plot both curves ---\n",
    "plt.figure(figsize=(8,6))\n",
    "plt.plot(fpr_log, tpr_log, label=f\"Logistic Regression (AUC = {auc_log:.3f})\")\n",
    "plt.plot(fpr_rf, tpr_rf, label=f\"Random Forest (AUC = {auc_rf:.3f})\")\n",
    "plt.plot([0,1],[0,1], 'k--')  # diagonal\n",
    "plt.xlabel(\"False Positive Rate\")\n",
    "plt.ylabel(\"True Positive Rate\")\n",
    "plt.title(\"ROC Curve Comparison\")\n",
    "plt.legend()\n",
    "plt.show()\n"
   ]
  },
  {
   "cell_type": "code",
   "execution_count": 75,
   "id": "14c95176",
   "metadata": {
    "execution": {
     "iopub.execute_input": "2025-09-09T03:02:20.045525Z",
     "iopub.status.busy": "2025-09-09T03:02:20.045129Z",
     "iopub.status.idle": "2025-09-09T03:02:20.412193Z",
     "shell.execute_reply": "2025-09-09T03:02:20.411084Z"
    },
    "papermill": {
     "duration": 0.398015,
     "end_time": "2025-09-09T03:02:20.413855",
     "exception": false,
     "start_time": "2025-09-09T03:02:20.015840",
     "status": "completed"
    },
    "tags": []
   },
   "outputs": [
    {
     "data": {
      "image/png": "[encoded data removed]",
      "text/plain": [
       "<Figure size 1000x600 with 1 Axes>"
      ]
     },
     "metadata": {},
     "output_type": "display_data"
    }
   ],
   "source": [
    "import numpy as np\n",
    "\n",
    "# Get feature names from encoder\n",
    "feature_names = ct.get_feature_names_out()\n",
    "\n",
    "# Extract feature importances\n",
    "importances = rf_model.feature_importances_\n",
    "\n",
    "# Sort features by importance\n",
    "indices = np.argsort(importances)[::-1]\n",
    "\n",
    "# Plot top 15 features\n",
    "plt.figure(figsize=(10,6))\n",
    "plt.bar(range(15), importances[indices[:15]], align=\"center\")\n",
    "plt.xticks(range(15), feature_names[indices[:15]], rotation=90)\n",
    "plt.title(\"Top 15 Important Features (Random Forest)\")\n",
    "plt.show()\n"
   ]
  },
  {
   "cell_type": "markdown",
   "id": "ca81a2d2",
   "metadata": {
    "papermill": {
     "duration": 0.032544,
     "end_time": "2025-09-09T03:02:20.478236",
     "exception": false,
     "start_time": "2025-09-09T03:02:20.445692",
     "status": "completed"
    },
    "tags": []
   },
   "source": [
    "Conclusion:\n",
    "\n",
    "In this project, we built a churn prediction model using the Telco Customer Churn dataset.\n",
    "\n",
    "We preprocessed the data by handling missing values, encoding categorical variables, and splitting into train-test sets.\n",
    "\n",
    "Two models were trained: Logistic Regression and Random Forest.\n",
    "\n",
    "Logistic Regression achieved an accuracy of ~74% and ROC-AUC of ~0.84, showing good separation capability.\n",
    "\n",
    "Random Forest achieved a slightly better accuracy of ~78% and ROC-AUC of ~0.82, making it a stronger candidate overall.\n",
    "\n",
    "Feature importance analysis revealed that Contract type, Monthly Charges, and Tenure were the most influential factors in predicting churn.\n",
    "\n",
    "Final Note: The Random Forest model can be deployed for business use to help telecom companies identify customers at high risk of churn and take proactive retention actions."
   ]
  }
 ],
 "metadata": {
  "kaggle": {
   "accelerator": "none",
   "dataSources": [
    {
     "datasetId": 13996,
     "sourceId": 18858,
     "sourceType": "datasetVersion"
    },
    {
     "datasetId": 8188444,
     "sourceId": 12939791,
     "sourceType": "datasetVersion"
    },
    {
     "datasetId": 8190151,
     "sourceId": 12942222,
     "sourceType": "datasetVersion"
    },
    {
     "sourceId": 6005067,
     "sourceType": "kernelVersion"
    }
   ],
   "dockerImageVersionId": 31089,
   "isGpuEnabled": false,
   "isInternetEnabled": false,
   "language": "python",
   "sourceType": "notebook"
  },
  "kernelspec": {
   "display_name": "Python 3",
   "language": "python",
   "name": "python3"
  },
  "language_info": {
   "codemirror_mode": {
    "name": "ipython",
    "version": 3
   },
   "file_extension": ".py",
   "mimetype": "text/x-python",
   "name": "python",
   "nbconvert_exporter": "python",
   "pygments_lexer": "ipython3",
   "version": "3.11.13"
  },
  "papermill": {
   "default_parameters": {},
   "duration": 38.645779,
   "end_time": "2025-09-09T03:02:21.329687",
   "environment_variables": {},
   "exception": null,
   "input_path": "__notebook__.ipynb",
   "output_path": "__notebook__.ipynb",
   "parameters": {},
   "start_time": "2025-09-09T03:01:42.683908",
   "version": "2.6.0"
  }
 },
 "nbformat": 4,
 "nbformat_minor": 5
}
